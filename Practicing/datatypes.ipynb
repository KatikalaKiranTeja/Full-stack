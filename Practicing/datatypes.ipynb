{
 "cells": [
  {
   "cell_type": "code",
   "execution_count": null,
   "id": "99b84b8e",
   "metadata": {},
   "outputs": [
    {
     "name": "stdout",
     "output_type": "stream",
     "text": [
      "odd\n"
     ]
    }
   ],
   "source": [
    "n=21\n",
    "if n%2==0:\n",
    "    print(\"even\")\n",
    "else:\n",
    "    print(\"odd\")"
   ]
  },
  {
   "cell_type": "code",
   "execution_count": 9,
   "id": "4dfe72bd",
   "metadata": {},
   "outputs": [
    {
     "name": "stdout",
     "output_type": "stream",
     "text": [
      "12.35\n"
     ]
    }
   ],
   "source": [
    "x=12.34567\n",
    "result=f\"{x:.2f}\"\n",
    "print(result)\n"
   ]
  },
  {
   "cell_type": "code",
   "execution_count": 13,
   "id": "35ac2970",
   "metadata": {},
   "outputs": [
    {
     "name": "stdout",
     "output_type": "stream",
     "text": [
      "15\n",
      "3.0\n"
     ]
    }
   ],
   "source": [
    "list=[1,2,3,4,5]\n",
    "print(sum(list))\n",
    "average = sum(list)/len(list)\n",
    "print(average)"
   ]
  },
  {
   "cell_type": "code",
   "execution_count": 16,
   "id": "12a3d51f",
   "metadata": {},
   "outputs": [
    {
     "name": "stdout",
     "output_type": "stream",
     "text": [
      "p\n",
      "g\n",
      "18\n"
     ]
    }
   ],
   "source": [
    "s=\"python programming\"\n",
    "print(s[0])\n",
    "print(s[-1])\n",
    "print(len(s))"
   ]
  },
  {
   "cell_type": "code",
   "execution_count": 62,
   "id": "1b6d19b5",
   "metadata": {},
   "outputs": [
    {
     "name": "stdout",
     "output_type": "stream",
     "text": [
      "{8, 9, 2, 5}\n",
      "3\n",
      "[9, 8, 5, 5, 2, 2, 2]\n"
     ]
    }
   ],
   "source": [
    "nums=[2,5,8,2,9,5,2]\n",
    "\n",
    "unique_elements =  (set(nums))\n",
    "print(unique_elements)\n",
    "count_of_2 = nums.count(2)\n",
    "print(count_of_2)\n",
    "sorted_desc = sorted(nums, reverse=True)\n",
    "print(sorted_desc)"
   ]
  },
  {
   "cell_type": "code",
   "execution_count": 2,
   "id": "03624aed",
   "metadata": {},
   "outputs": [
    {
     "name": "stdout",
     "output_type": "stream",
     "text": [
      "kiran\n",
      "{'name': 'kiran', 'age': 21, 'marks': [75, 70, 77], 'grade': 'A'}\n",
      "74.0\n"
     ]
    }
   ],
   "source": [
    "students={\"name\":\"kiran\",\"age\":21,\"marks\":[75,70,77]}\n",
    "print(students[\"name\"])\n",
    "students[\"grade\"]=\"A\"\n",
    "print(students)\n",
    "average=sum(students[\"marks\"])/len(students[\"marks\"])\n",
    "print(average)"
   ]
  },
  {
   "cell_type": "code",
   "execution_count": 29,
   "id": "dbde41d2",
   "metadata": {},
   "outputs": [
    {
     "name": "stdout",
     "output_type": "stream",
     "text": [
      "palidrome\n"
     ]
    }
   ],
   "source": [
    "x=\"madam\"\n",
    "rev =str(x)\n",
    "if rev == x[::-1]:\n",
    "    print(\"palidrome\")\n",
    "else:\n",
    "    print(\"not\")"
   ]
  },
  {
   "cell_type": "code",
   "execution_count": 31,
   "id": "3c69d785",
   "metadata": {},
   "outputs": [
    {
     "name": "stdout",
     "output_type": "stream",
     "text": [
      "{1, 2, 3, 4, 5, 6, 7, 8}\n",
      "{4, 5}\n",
      "{1, 2, 3}\n",
      "False\n"
     ]
    }
   ],
   "source": [
    "A = {1, 2, 3, 4, 5}\n",
    "B = {4, 5, 6, 7, 8}\n",
    "\n",
    "print(A.union(B))\n",
    "print(A.intersection(B))\n",
    "print(A.difference(B))\n",
    "\n",
    "check_subset=A.issubset(B)\n",
    "print(check_subset)"
   ]
  },
  {
   "cell_type": "code",
   "execution_count": 38,
   "id": "0a63032b",
   "metadata": {},
   "outputs": [
    {
     "name": "stdout",
     "output_type": "stream",
     "text": [
      "Number of words : 4\n",
      "Number of vowels : 6\n",
      "Number of digits : 0\n"
     ]
    }
   ],
   "source": [
    "sentence=\"i am learning python\"\n",
    "word_count=len(sentence.split())\n",
    "vowels=\"aeiouAEIOU\"\n",
    "vowel_count=sum(1 for char in sentence if char in vowels)\n",
    "digit_count=sum(1 for char in sentence if char.isdigit())\n",
    "\n",
    "print(\"Number of words :\",word_count)\n",
    "print(\"Number of vowels :\",vowel_count)\n",
    "print(\"Number of digits :\",digit_count)\n"
   ]
  },
  {
   "cell_type": "code",
   "execution_count": 52,
   "id": "aa046b5c",
   "metadata": {},
   "outputs": [
    {
     "name": "stdout",
     "output_type": "stream",
     "text": [
      "Dictionary: {0: 2, 1: 4, 2: 6, 3: 8, 4: 10}\n"
     ]
    }
   ],
   "source": [
    "t = (2, 4, 6, 8, 10)\n",
    "\n",
    "# Convert to list\n",
    "\n",
    "\n",
    "# Convert to dictionary with index as key\n",
    "dict_version = {index: value for index, value in enumerate(t)}\n",
    "\n",
    "# Display results\n",
    "\n",
    "print(\"Dictionary:\", dict_version)\n"
   ]
  },
  {
   "cell_type": "code",
   "execution_count": 63,
   "id": "cd3e4bac",
   "metadata": {},
   "outputs": [
    {
     "name": "stdout",
     "output_type": "stream",
     "text": [
      "9 5\n"
     ]
    }
   ],
   "source": [
    "a=5\n",
    "b=9\n",
    "temp=a\n",
    "a=b\n",
    "b=temp\n",
    "print(a,b)"
   ]
  },
  {
   "cell_type": "code",
   "execution_count": 4,
   "id": "6bd89c36",
   "metadata": {},
   "outputs": [
    {
     "name": "stdout",
     "output_type": "stream",
     "text": [
      "Integer part 563\n"
     ]
    }
   ],
   "source": [
    "num = float(input(\"Enter a float :\"))\n",
    "print(\"Integer part\", int(float(num)))"
   ]
  },
  {
   "cell_type": "code",
   "execution_count": 74,
   "id": "d73b1fa3",
   "metadata": {},
   "outputs": [
    {
     "name": "stdout",
     "output_type": "stream",
     "text": [
      "it is not a perfect square\n"
     ]
    }
   ],
   "source": [
    "import math\n",
    "n=int(input(\"Enter a number :\"))\n",
    "if math.sqrt(n)**2==n:\n",
    "    print(n,\"is a perfect square\")\n",
    "else:\n",
    "    print(\"it is not a perfect square\")\n"
   ]
  },
  {
   "cell_type": "code",
   "execution_count": 76,
   "id": "412ad64e",
   "metadata": {},
   "outputs": [
    {
     "name": "stdout",
     "output_type": "stream",
     "text": [
      "is real 9\n",
      "is imaginary 4.0\n",
      "5.0\n"
     ]
    }
   ],
   "source": [
    "z=3+4j\n",
    "\n",
    "print(\"is real\",a.real)\n",
    "print(\"is imaginary\",z.imag)\n",
    "\n",
    "print(abs(z))"
   ]
  },
  {
   "cell_type": "code",
   "execution_count": 77,
   "id": "4fd264b6",
   "metadata": {},
   "outputs": [],
   "source": [
    "ip=str(input(\"Enter a string :\"))\n",
    "count=0\n"
   ]
  },
  {
   "cell_type": "code",
   "execution_count": 79,
   "id": "80b783b5",
   "metadata": {},
   "outputs": [
    {
     "name": "stdout",
     "output_type": "stream",
     "text": [
      "Reversed : narik\n"
     ]
    }
   ],
   "source": [
    "s=\"kiran\"\n",
    "rev=\"\"\n",
    "for i in s:\n",
    "    rev = i+rev\n",
    "print(\"Reversed :\",rev)"
   ]
  },
  {
   "cell_type": "code",
   "execution_count": 94,
   "id": "f8875c16",
   "metadata": {},
   "outputs": [
    {
     "name": "stdout",
     "output_type": "stream",
     "text": [
      "Anagram ['e', 'i', 'l', 'n', 's', 't']\n"
     ]
    }
   ],
   "source": [
    "str1=\"listen\"\n",
    "str2=\"silent\"\n",
    "if sorted(str1)==sorted(str2):\n",
    "    print(\"Anagram\",sorted(str1))\n",
    "else:\n",
    "    print(\"Not Anagram\")"
   ]
  },
  {
   "cell_type": "code",
   "execution_count": 83,
   "id": "89d84b08",
   "metadata": {},
   "outputs": [
    {
     "name": "stdout",
     "output_type": "stream",
     "text": [
      "Capitalize Python Programming\n"
     ]
    }
   ],
   "source": [
    "sentence=\"python programming\"\n",
    "capitalize=sentence.title()\n",
    "print(\"Capitalize\",capitalize)"
   ]
  },
  {
   "cell_type": "code",
   "execution_count": 89,
   "id": "79994a03",
   "metadata": {},
   "outputs": [
    {
     "name": "stdout",
     "output_type": "stream",
     "text": [
      "{1, 2, 3, 5, 6, 8, 87}\n"
     ]
    }
   ],
   "source": [
    "l=[1,2,5,87,3,6,2,8,3]\n",
    "unique_elements=(set(l))\n",
    "print(unique_elements)"
   ]
  },
  {
   "cell_type": "code",
   "execution_count": 95,
   "id": "5a579106",
   "metadata": {},
   "outputs": [
    {
     "name": "stdout",
     "output_type": "stream",
     "text": [
      "[1, 2, 5, 87, 3, 6, 8]\n"
     ]
    }
   ],
   "source": [
    "l=[1,2,5,87,3,6,2,8,3]\n",
    "unique_elements=[]\n",
    "for i in l:\n",
    "    if i not in unique_elements:\n",
    "        unique_elements.append(i)\n",
    "print(unique_elements)\n",
    "        "
   ]
  },
  {
   "cell_type": "code",
   "execution_count": 100,
   "id": "e1b5c9da",
   "metadata": {},
   "outputs": [
    {
     "name": "stdout",
     "output_type": "stream",
     "text": [
      "Highest marks 90\n",
      "Lowest marks 65\n"
     ]
    }
   ],
   "source": [
    "marks=[65,70,85,90,75]\n",
    "highest=marks[0]\n",
    "lowest=marks[0]\n",
    "for mark in marks:\n",
    "    if mark>highest:\n",
    "        highest=mark\n",
    "    if mark<lowest:\n",
    "        lowest=mark\n",
    "print(\"Highest marks\",highest)\n",
    "print(\"Lowest marks\",lowest)        "
   ]
  },
  {
   "cell_type": "code",
   "execution_count": 104,
   "id": "30fc2125",
   "metadata": {},
   "outputs": [
    {
     "name": "stdout",
     "output_type": "stream",
     "text": [
      "[1, 2, 3, 4, 5, 6]\n"
     ]
    }
   ],
   "source": [
    "data = [[1, 2], [3, 4, 5], [6]]\n",
    "flattened = [item for sublist in data for item in sublist]\n",
    "print(flattened)"
   ]
  },
  {
   "cell_type": "code",
   "execution_count": 106,
   "id": "45cb68be",
   "metadata": {},
   "outputs": [
    {
     "name": "stdout",
     "output_type": "stream",
     "text": [
      "[1, 2, 3, 4, 5, 6, 7, 8, 9]\n"
     ]
    }
   ],
   "source": [
    "data = [[1,2,3],[4,5,6],[7,8,9]]\n",
    "flattened = [item for i in data for item in i]\n",
    "print(flattened)"
   ]
  },
  {
   "cell_type": "code",
   "execution_count": 110,
   "id": "ebede8d1",
   "metadata": {},
   "outputs": [
    {
     "name": "stdout",
     "output_type": "stream",
     "text": [
      "[3, 1, 2, 5, 6, 4]\n"
     ]
    }
   ],
   "source": [
    "list = [2,5,6,4,3,1]\n",
    "k=2\n",
    "k=k%len(list)\n",
    "rotated=list[-k:]+list[:-k]\n",
    "print(rotated)"
   ]
  },
  {
   "cell_type": "code",
   "execution_count": 116,
   "id": "7bc0fd9e",
   "metadata": {},
   "outputs": [
    {
     "name": "stdout",
     "output_type": "stream",
     "text": [
      "1-2-3\n"
     ]
    }
   ],
   "source": [
    "n=(1,2,3)\n",
    "joined='-'.join(map(str,n))\n",
    "print(joined)"
   ]
  },
  {
   "cell_type": "code",
   "execution_count": 118,
   "id": "aadcd2df",
   "metadata": {},
   "outputs": [
    {
     "name": "stdout",
     "output_type": "stream",
     "text": [
      "3\n"
     ]
    }
   ],
   "source": [
    "t=(1,2,3,2,4,2)\n",
    "count_2 = t.count(2)\n",
    "print(count_2)"
   ]
  },
  {
   "cell_type": "code",
   "execution_count": 120,
   "id": "9807d133",
   "metadata": {},
   "outputs": [
    {
     "name": "stdout",
     "output_type": "stream",
     "text": [
      "{1: 'a', 2: 'b', 3: 'c'}\n"
     ]
    }
   ],
   "source": [
    "p=[(1,'a'),(2,'b'),(3,'c')]\n",
    "convert=dict(p)\n",
    "print(convert)"
   ]
  },
  {
   "cell_type": "code",
   "execution_count": 129,
   "id": "b386d8d3",
   "metadata": {},
   "outputs": [
    {
     "name": "stdout",
     "output_type": "stream",
     "text": [
      "True\n"
     ]
    }
   ],
   "source": [
    "set1={1,3,5,8,5,2}\n",
    "set2={4,7,9,6}\n",
    "disjoint=set1.isdisjoint(set2)\n",
    "print(disjoint)"
   ]
  },
  {
   "cell_type": "code",
   "execution_count": null,
   "id": "b9a8fad5",
   "metadata": {},
   "outputs": [
    {
     "name": "stdout",
     "output_type": "stream",
     "text": [
      "{2, 4, 5, 6, 8}\n"
     ]
    }
   ],
   "source": [
    "set1={1,3,5,8,5,2}\n",
    "set2={1,3,3,6,4}\n",
    "difference=set1.symmetric_difference(set2)\n",
    "print(difference)"
   ]
  },
  {
   "cell_type": "code",
   "execution_count": 128,
   "id": "674d0ca3",
   "metadata": {},
   "outputs": [
    {
     "name": "stdout",
     "output_type": "stream",
     "text": [
      "{1, 2, 3, 4, 5, 7, 8, 9}\n"
     ]
    }
   ],
   "source": [
    "list=[1,2,2,4,7,5,3,5,8,9]\n",
    "l=set(list)\n",
    "print(l)"
   ]
  },
  {
   "cell_type": "code",
   "execution_count": 1,
   "id": "98215e8d",
   "metadata": {},
   "outputs": [
    {
     "name": "stdout",
     "output_type": "stream",
     "text": [
      "{'this': 2, 'is': 2, 'a': 2, 'test': 2, 'only': 1}\n"
     ]
    }
   ],
   "source": [
    "sentence = \"this is a test this is only a test\"\n",
    "word_freq = {}\n",
    "for i in sentence.split():\n",
    "    word_freq[i]=word_freq.get(i,0)+1\n",
    "print(word_freq)"
   ]
  },
  {
   "cell_type": "code",
   "execution_count": null,
   "id": "7a329559",
   "metadata": {},
   "outputs": [
    {
     "name": "stdout",
     "output_type": "stream",
     "text": [
      "4\n"
     ]
    }
   ],
   "source": [
    "# num = [1,2,3,2,4,5,2,5,2]\n",
    "# tar=2\n",
    "# d={}\n",
    "# for i in num:\n",
    "#     if i in d:\n",
    "#         d[i] +=1\n",
    "#     else:\n",
    "#         d[i] =1\n",
    "# print(d[tar])\n",
    "\n",
    "\n",
    "\n",
    "\n",
    "\n"
   ]
  },
  {
   "cell_type": "code",
   "execution_count": null,
   "id": "9494d9d8",
   "metadata": {},
   "outputs": [
    {
     "name": "stdout",
     "output_type": "stream",
     "text": [
      "first minimum number is 9\n",
      "second minimum number is 10\n"
     ]
    }
   ],
   "source": [
    "l= [10,99,9,999]\n",
    "fm=l[0]\n",
    "smn=l[0]\n",
    "for i in l:\n",
    "    if i<fm:\n",
    "        smn=fm\n",
    "        fm=i\n",
    "    else:\n",
    "        i<smn and i!=fm\n",
    "print(\"first minimum number is\",fm)\n",
    "print(\"second minimum number is\",smn)"
   ]
  },
  {
   "cell_type": "code",
   "execution_count": 13,
   "id": "cbb8ecb3",
   "metadata": {},
   "outputs": [
    {
     "name": "stdout",
     "output_type": "stream",
     "text": [
      "first min 9\n",
      "second  min 10\n"
     ]
    }
   ],
   "source": [
    "l= [10,99,9,999]\n",
    "fm=float(\"inf\")\n",
    "for i in l:\n",
    "    if i<fm:\n",
    "        fm=i\n",
    "sm=float(\"inf\")\n",
    "for i in l:\n",
    "    if i>fm and i<sm:\n",
    "        sm=i\n",
    "print(\"first min\",fm)\n",
    "print(\"second  min\",sm)\n"
   ]
  },
  {
   "cell_type": "code",
   "execution_count": null,
   "id": "966989a1",
   "metadata": {},
   "outputs": [],
   "source": []
  },
  {
   "cell_type": "code",
   "execution_count": null,
   "id": "cc9b248a",
   "metadata": {},
   "outputs": [],
   "source": []
  },
  {
   "cell_type": "code",
   "execution_count": null,
   "id": "29a9e840",
   "metadata": {},
   "outputs": [],
   "source": []
  },
  {
   "cell_type": "code",
   "execution_count": null,
   "id": "32e4aaeb",
   "metadata": {},
   "outputs": [],
   "source": []
  },
  {
   "cell_type": "code",
   "execution_count": null,
   "id": "bf6a8401",
   "metadata": {},
   "outputs": [],
   "source": []
  },
  {
   "cell_type": "code",
   "execution_count": null,
   "id": "a6790094",
   "metadata": {},
   "outputs": [],
   "source": []
  },
  {
   "cell_type": "code",
   "execution_count": null,
   "id": "881eb44d",
   "metadata": {},
   "outputs": [],
   "source": []
  },
  {
   "cell_type": "code",
   "execution_count": null,
   "id": "45326c71",
   "metadata": {},
   "outputs": [],
   "source": []
  },
  {
   "cell_type": "code",
   "execution_count": null,
   "id": "7ef24822",
   "metadata": {},
   "outputs": [],
   "source": []
  },
  {
   "cell_type": "code",
   "execution_count": null,
   "id": "1f9afb3e",
   "metadata": {},
   "outputs": [],
   "source": []
  },
  {
   "cell_type": "code",
   "execution_count": null,
   "id": "ec719852",
   "metadata": {},
   "outputs": [],
   "source": []
  },
  {
   "cell_type": "code",
   "execution_count": null,
   "id": "978b343c",
   "metadata": {},
   "outputs": [],
   "source": []
  },
  {
   "cell_type": "code",
   "execution_count": null,
   "id": "005bb530",
   "metadata": {},
   "outputs": [],
   "source": []
  },
  {
   "cell_type": "code",
   "execution_count": null,
   "id": "86766e39",
   "metadata": {},
   "outputs": [],
   "source": []
  },
  {
   "cell_type": "code",
   "execution_count": null,
   "id": "7355607f",
   "metadata": {},
   "outputs": [],
   "source": []
  },
  {
   "cell_type": "code",
   "execution_count": null,
   "id": "537f2481",
   "metadata": {},
   "outputs": [],
   "source": []
  },
  {
   "cell_type": "code",
   "execution_count": null,
   "id": "f8de4ccc",
   "metadata": {},
   "outputs": [],
   "source": []
  },
  {
   "cell_type": "code",
   "execution_count": null,
   "id": "52d35b25",
   "metadata": {},
   "outputs": [],
   "source": []
  },
  {
   "cell_type": "code",
   "execution_count": null,
   "id": "b0698079",
   "metadata": {},
   "outputs": [],
   "source": []
  },
  {
   "cell_type": "code",
   "execution_count": null,
   "id": "4f58a19d",
   "metadata": {},
   "outputs": [],
   "source": []
  },
  {
   "cell_type": "code",
   "execution_count": null,
   "id": "1e3431a9",
   "metadata": {},
   "outputs": [],
   "source": []
  },
  {
   "cell_type": "code",
   "execution_count": null,
   "id": "93d3f601",
   "metadata": {},
   "outputs": [],
   "source": []
  },
  {
   "cell_type": "code",
   "execution_count": null,
   "id": "3cd4e7cb",
   "metadata": {},
   "outputs": [],
   "source": []
  },
  {
   "cell_type": "code",
   "execution_count": null,
   "id": "c8b56c26",
   "metadata": {},
   "outputs": [],
   "source": []
  },
  {
   "cell_type": "code",
   "execution_count": null,
   "id": "9e204c7d",
   "metadata": {},
   "outputs": [],
   "source": []
  },
  {
   "cell_type": "code",
   "execution_count": null,
   "id": "a8c58bdb",
   "metadata": {},
   "outputs": [],
   "source": []
  },
  {
   "cell_type": "code",
   "execution_count": null,
   "id": "f45c517b",
   "metadata": {},
   "outputs": [],
   "source": []
  },
  {
   "cell_type": "code",
   "execution_count": null,
   "id": "17dec17a",
   "metadata": {},
   "outputs": [],
   "source": []
  },
  {
   "cell_type": "code",
   "execution_count": null,
   "id": "ad8e3dc0",
   "metadata": {},
   "outputs": [],
   "source": []
  }
 ],
 "metadata": {
  "kernelspec": {
   "display_name": "Python 3",
   "language": "python",
   "name": "python3"
  },
  "language_info": {
   "codemirror_mode": {
    "name": "ipython",
    "version": 3
   },
   "file_extension": ".py",
   "mimetype": "text/x-python",
   "name": "python",
   "nbconvert_exporter": "python",
   "pygments_lexer": "ipython3",
   "version": "3.13.1"
  }
 },
 "nbformat": 4,
 "nbformat_minor": 5
}
