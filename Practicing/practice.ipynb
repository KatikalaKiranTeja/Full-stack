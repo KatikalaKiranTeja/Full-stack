{
 "cells": [
  {
   "cell_type": "code",
   "execution_count": null,
   "id": "3505ec24",
   "metadata": {},
   "outputs": [
    {
     "name": "stdout",
     "output_type": "stream",
     "text": [
      "sum of digitd without using strings : 10\n",
      "Sum of digits without using strings: 10\n"
     ]
    }
   ],
   "source": [
    "def sum_of_digits(num):\n",
    "    sum=0\n",
    "    while num>0:\n",
    "        d=num%10\n",
    "        sum+=d\n",
    "        num //=10\n",
    "    return sum\n",
    "print(\"sum of digitd without using strings :\",sum_of_digits(181))\n",
    "\n",
    "def sum_of_digits(num):\n",
    "    sum = 0\n",
    "    for i in range(len(str(num))):  # Loop runs as many times as there are digits\n",
    "        sum += num % 10\n",
    "        num //= 10\n",
    "        if num == 0:\n",
    "            break\n",
    "    return sum\n",
    "\n",
    "print(\"Sum of digits without using strings:\", sum_of_digits(181))\n"
   ]
  },
  {
   "cell_type": "code",
   "execution_count": 4,
   "id": "960fa27b",
   "metadata": {},
   "outputs": [
    {
     "name": "stdout",
     "output_type": "stream",
     "text": [
      "reverse_num is  267\n",
      "321\n",
      "olleh\n"
     ]
    }
   ],
   "source": [
    "\n",
    "val=762\n",
    "rev=str(val)[::-1]\n",
    "print(\"reverse_num is \",rev)\n",
    "\n",
    "\n",
    "def reverse_num(n):\n",
    "    rev=0\n",
    "    while n>0:\n",
    "        d=n%10\n",
    "        rev = rev * 10 +d\n",
    "        n//=10\n",
    "    return rev\n",
    "print(reverse_num(123))\n",
    "\n",
    "def reverse_string(s):\n",
    "    rev = \"\"\n",
    "    for char in s:\n",
    "        rev = char + rev\n",
    "    return rev\n",
    "\n",
    "print(reverse_string(\"hello\"))\n"
   ]
  },
  {
   "cell_type": "code",
   "execution_count": 1,
   "id": "6e079f64",
   "metadata": {},
   "outputs": [
    {
     "name": "stdout",
     "output_type": "stream",
     "text": [
      "factorial of 5 is 120\n",
      "factorial of 4 is 24\n"
     ]
    }
   ],
   "source": [
    "def fact(n):\n",
    "    if n==0 or n==1:\n",
    "        return 1\n",
    "    else:\n",
    "        return n*fact(n-1)\n",
    "print(f\"factorial of 5 is\",fact(5))\n",
    "\n",
    "\n",
    "n=4\n",
    "fact=1\n",
    "for val in range(n,0,-1):\n",
    "    fact *=val\n",
    "print(\"factorial of 4 is\",fact)"
   ]
  },
  {
   "cell_type": "code",
   "execution_count": 4,
   "id": "f913009d",
   "metadata": {},
   "outputs": [
    {
     "name": "stdout",
     "output_type": "stream",
     "text": [
      "r\n",
      "ej\n"
     ]
    }
   ],
   "source": [
    "def f_m_c(s):\n",
    "    \n",
    "    size=len(s)\n",
    "    mid=size//2\n",
    "    if size%2==0:\n",
    "        return (s[mid-1]+s[mid])\n",
    "    else:\n",
    "        return s[mid]\n",
    "print(f_m_c(\"kiran\"))\n",
    "print(f_m_c(\"teja\"))\n"
   ]
  },
  {
   "cell_type": "code",
   "execution_count": 26,
   "id": "42f76dc2",
   "metadata": {},
   "outputs": [
    {
     "name": "stdout",
     "output_type": "stream",
     "text": [
      "the 75547 is  equal \n"
     ]
    }
   ],
   "source": [
    "def solve(num):\n",
    "    ip_val = str(num)\n",
    "\n",
    "    f_l_d_s=int(ip_val[0])+int(ip_val[-1])\n",
    "    r_d_s = sum(int(val) for val in (ip_val[1:-1]))\n",
    "    if f_l_d_s != r_d_s:\n",
    "        print(f\"the {num} is not equal \")\n",
    "    else:\n",
    "        print(f\"the {num} is  equal \")\n",
    "num=75547\n",
    "solve(num)"
   ]
  },
  {
   "cell_type": "code",
   "execution_count": 23,
   "id": "d56388ce",
   "metadata": {},
   "outputs": [
    {
     "name": "stdout",
     "output_type": "stream",
     "text": [
      "ooe\n",
      "4\n",
      "4\n",
      "aeiou\n"
     ]
    }
   ],
   "source": [
    "def find_vowels(s):\n",
    "    res_str = \"\"\n",
    "    for i in s:\n",
    "        if i in \"aeiou\" or i in \"AEIOU\":\n",
    "            res_str += i\n",
    "    return res_str[::-1]\n",
    "print(find_vowels(\"Hello World\"))\n",
    "\n",
    "def count_vowels(text):\n",
    "    vowels=\"aeiou\"\n",
    "    count=0\n",
    "    for i in text:\n",
    "        if i in vowels:\n",
    "            count +=1\n",
    "    return count\n",
    "text=\"kiranteja\"\n",
    "print(count_vowels(text))\n",
    "\n",
    "s=\"kiranteja\"\n",
    "v=\"aeiou\"\n",
    "count=0\n",
    "for i in s:\n",
    "    if i in v:\n",
    "        count +=1\n",
    "print(count)\n",
    "        \n",
    "v=\"aeiou\"\n",
    "def count_vowels():\n",
    "    v1=\"\"\n",
    "    for i in range(97,123):\n",
    "        if chr(i)  in v:\n",
    "            v1 +=chr(i)\n",
    "    return v1\n",
    "print(count_vowels())\n"
   ]
  },
  {
   "cell_type": "code",
   "execution_count": 4,
   "id": "834f96c1",
   "metadata": {},
   "outputs": [
    {
     "name": "stdout",
     "output_type": "stream",
     "text": [
      "palindrome\n",
      "palindrome\n"
     ]
    }
   ],
   "source": [
    "def palindrome(s):\n",
    "    rev=\"\"\n",
    "    for i in range(len(s)):\n",
    "        rev +=s[i]\n",
    "    if s == rev:\n",
    "        print(\"palindrome\")\n",
    "    else:\n",
    "        print(\"not palindrome\")\n",
    "palindrome(\"madam\")\n",
    "palindrome(\"kiran\")"
   ]
  },
  {
   "cell_type": "code",
   "execution_count": 6,
   "id": "c2801551",
   "metadata": {},
   "outputs": [
    {
     "name": "stdout",
     "output_type": "stream",
     "text": [
      "153 is an armstrong number\n"
     ]
    }
   ],
   "source": [
    "def armstrong(n):\n",
    "    original_num=len(str(n))\n",
    "    sum=0\n",
    "    temp=n\n",
    "    while temp > 0:\n",
    "        digit = temp %10\n",
    "        sum +=digit**original_num\n",
    "        temp //=10\n",
    "    return sum==n\n",
    "\n",
    "num=153\n",
    "\n",
    "if armstrong(num):\n",
    "    print(f\"{num} is an armstrong number\")\n",
    "else:\n",
    "    print(f\"{num} is not a armstrong number\")\n",
    "\n",
    "\n",
    "\n",
    "# def armstrong(n):\n",
    "#     num_digits = len(str(n))\n",
    "#     temp = n\n",
    "#     total = 0\n",
    "#     while temp > 0:\n",
    "#         digit = temp % 10\n",
    "#         total += digit ** num_digits\n",
    "#         temp //= 10\n",
    "#     return total == n\n",
    "\n",
    "# num = 153\n",
    "\n",
    "# if armstrong(num - 1):\n",
    "#     print(f\"{num - 1} is an Armstrong number\")\n",
    "# else:\n",
    "#     print(f\"{num - 1} is not an Armstrong number\")"
   ]
  },
  {
   "cell_type": "code",
   "execution_count": 23,
   "id": "9ce740ec",
   "metadata": {},
   "outputs": [
    {
     "name": "stdout",
     "output_type": "stream",
     "text": [
      "24\n"
     ]
    }
   ],
   "source": [
    "def fact(n):\n",
    "    if n==0 or n==1:\n",
    "        return 1\n",
    "    else:\n",
    "        return n*fact(n-1)\n",
    "fact(4)\n",
    "print(fact(4))"
   ]
  },
  {
   "cell_type": "code",
   "execution_count": 5,
   "id": "a8e06db8",
   "metadata": {},
   "outputs": [
    {
     "name": "stdout",
     "output_type": "stream",
     "text": [
      "0 1 1 2 3 "
     ]
    }
   ],
   "source": [
    "def fib(n):\n",
    "    a,b=0,1\n",
    "    for i in range(n):\n",
    "        print(a,end=\" \")\n",
    "        a,b=b,a+b\n",
    "fib(5)"
   ]
  },
  {
   "cell_type": "code",
   "execution_count": 34,
   "id": "571891e8",
   "metadata": {},
   "outputs": [
    {
     "name": "stdout",
     "output_type": "stream",
     "text": [
      "olleh\n"
     ]
    }
   ],
   "source": [
    "def rev_num(n):\n",
    "    rev=0\n",
    "    while n>0:\n",
    "        d=n%10\n",
    "        rev = rev*10+d\n",
    "        n = n//10\n",
    "    return rev\n",
    "rev_num(123)\n",
    "\n",
    "\n",
    "def rev_str(s):\n",
    "    rev=\"\"\n",
    "    for char in s:\n",
    "        rev =char+rev\n",
    "    return rev\n",
    "print(rev_str(\"hello\"))\n"
   ]
  },
  {
   "cell_type": "code",
   "execution_count": 36,
   "id": "c038d7ca",
   "metadata": {},
   "outputs": [
    {
     "name": "stdout",
     "output_type": "stream",
     "text": [
      "gcd of a and b is 6\n",
      "lcm of a and b is 36\n"
     ]
    }
   ],
   "source": [
    "def gcd(a,b):\n",
    "    while b!=0:\n",
    "        a,b = b, a%b\n",
    "    return a\n",
    "def lcm(a,b):\n",
    "    return (a*b) // gcd(a,b)\n",
    "\n",
    "a=12\n",
    "b=18\n",
    "print(\"gcd of a and b is\",gcd(a,b))\n",
    "print(\"lcm of a and b is\",lcm(a,b))"
   ]
  },
  {
   "cell_type": "code",
   "execution_count": 53,
   "id": "9a8b456f",
   "metadata": {},
   "outputs": [
    {
     "name": "stdout",
     "output_type": "stream",
     "text": [
      "prime 3\n",
      "prime 5\n",
      "prime 7\n",
      "prime 9\n",
      "prime 11\n",
      "prime 13\n",
      "prime 15\n",
      "prime 17\n",
      "prime 19\n"
     ]
    }
   ],
   "source": [
    "def is_prime(n):\n",
    "    if n<=1:\n",
    "        return False\n",
    "    for i in range(2,n):\n",
    "        if n%i == 0:\n",
    "            return False\n",
    "        return True\n",
    "for i in range(1,20):\n",
    "    if is_prime(i):\n",
    "        print(\"prime\",i)\n",
    "    "
   ]
  },
  {
   "cell_type": "code",
   "execution_count": null,
   "id": "45e972ee",
   "metadata": {},
   "outputs": [
    {
     "name": "stdout",
     "output_type": "stream",
     "text": [
      "aeiou\n",
      "4\n"
     ]
    }
   ],
   "source": [
    "vowels=\"aeiou\"\n",
    "def check_vowels():\n",
    "    v1=\"\"\n",
    "    for i in range(97,123):\n",
    "        if chr(i) in vowels:\n",
    "            v1 +=chr(i)\n",
    "    return v1\n",
    "\n",
    "print(check_vowels())\n",
    "\n",
    "def check_vowels(s):\n",
    "    v=\"aeiou\"\n",
    "    count=0\n",
    "    for i in s:\n",
    "        if i in v:\n",
    "            count +=1\n",
    "    return count\n",
    "print(check_vowels(\"kiranteja\"))\n",
    "\n"
   ]
  },
  {
   "cell_type": "code",
   "execution_count": 81,
   "id": "919c0b8b",
   "metadata": {},
   "outputs": [
    {
     "name": "stdout",
     "output_type": "stream",
     "text": [
      "4972\n"
     ]
    }
   ],
   "source": [
    "num=1223\n",
    "num1=num\n",
    "sum=0\n",
    "while num>0:\n",
    "    d =num%10\n",
    "    sum +=d*10+num1\n",
    "    num//=10\n",
    "print(sum)\n",
    "\n",
    "\n"
   ]
  },
  {
   "cell_type": "code",
   "execution_count": 82,
   "id": "a8c495f2",
   "metadata": {},
   "outputs": [
    {
     "name": "stdout",
     "output_type": "stream",
     "text": [
      "buzz\n"
     ]
    }
   ],
   "source": [
    "num=28\n",
    "if num%7==0 or num%10==7:\n",
    "    print(\"buzz\")\n",
    "else:\n",
    "    print(\"not buzz\")"
   ]
  },
  {
   "cell_type": "code",
   "execution_count": 88,
   "id": "3da1bed1",
   "metadata": {},
   "outputs": [
    {
     "name": "stdout",
     "output_type": "stream",
     "text": [
      "[1, 2, 3, 4, 5]\n"
     ]
    }
   ],
   "source": [
    "l=[1,2,2,3,4,4,5]\n",
    "op=[]\n",
    "for i in l:\n",
    "    if i not in op:\n",
    "        op.append(i)\n",
    "print(op)"
   ]
  },
  {
   "cell_type": "code",
   "execution_count": 3,
   "id": "665b5f38",
   "metadata": {},
   "outputs": [
    {
     "name": "stdout",
     "output_type": "stream",
     "text": [
      "is_palindrome\n"
     ]
    }
   ],
   "source": [
    "def is_palindrome(s):\n",
    "    rev=\"\"\n",
    "    for i in range(len(s)):\n",
    "        rev +=s[::-1]\n",
    "        if s==rev:\n",
    "            return \"is_palindrome\"\n",
    "        else:\n",
    "            return \"not palindrome\"\n",
    "print(is_palindrome(\"madam\"))\n",
    "    \n",
    "\n"
   ]
  }
 ],
 "metadata": {
  "kernelspec": {
   "display_name": "Python 3",
   "language": "python",
   "name": "python3"
  },
  "language_info": {
   "codemirror_mode": {
    "name": "ipython",
    "version": 3
   },
   "file_extension": ".py",
   "mimetype": "text/x-python",
   "name": "python",
   "nbconvert_exporter": "python",
   "pygments_lexer": "ipython3",
   "version": "3.13.1"
  }
 },
 "nbformat": 4,
 "nbformat_minor": 5
}
