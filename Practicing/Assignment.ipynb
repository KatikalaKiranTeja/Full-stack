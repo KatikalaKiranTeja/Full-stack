{
 "cells": [
  {
   "cell_type": "code",
   "execution_count": 2,
   "id": "52d62b41",
   "metadata": {},
   "outputs": [
    {
     "name": "stdout",
     "output_type": "stream",
     "text": [
      "not prime 1\n",
      "prime 2\n",
      "prime 3\n",
      "not prime 4\n",
      "prime 5\n",
      "not prime 6\n",
      "prime 7\n",
      "not prime 8\n",
      "not prime 9\n"
     ]
    }
   ],
   "source": [
    "def is_prime(n):\n",
    "    if n<=1:\n",
    "        return False\n",
    "    for i in range(2,n):\n",
    "        if n%i==0:\n",
    "            return False\n",
    "    return True\n",
    "for i in range(1,10):\n",
    "    if is_prime(i):\n",
    "        print(\"prime\",i)\n",
    "    else:\n",
    "        print(\"not prime\",i)\n",
    "\n",
    "\n"
   ]
  },
  {
   "cell_type": "code",
   "execution_count": 4,
   "id": "0a51b3e9",
   "metadata": {},
   "outputs": [
    {
     "name": "stdout",
     "output_type": "stream",
     "text": [
      "120\n"
     ]
    }
   ],
   "source": [
    "def fact(n):\n",
    "    if n==0 or n==1:\n",
    "        return 1\n",
    "    else:\n",
    "        return n*fact(n-1)\n",
    "print(fact(5))"
   ]
  },
  {
   "cell_type": "code",
   "execution_count": 11,
   "id": "3066a0db",
   "metadata": {},
   "outputs": [
    {
     "name": "stdout",
     "output_type": "stream",
     "text": [
      "[0]\n",
      "[0, 1]\n",
      "[0, 1, 1]\n",
      "[0, 1, 1, 2]\n",
      "[0, 1, 1, 2, 3]\n"
     ]
    }
   ],
   "source": [
    "def fib(n):\n",
    "    a,b=0,1\n",
    "    series=[]\n",
    "    for i in range( n):\n",
    "        series.append(a)\n",
    "        a,b=b,a+b\n",
    "        print(series)\n",
    "fib(5)\n",
    "\n"
   ]
  },
  {
   "cell_type": "code",
   "execution_count": 14,
   "id": "28d72e69",
   "metadata": {},
   "outputs": [
    {
     "name": "stdout",
     "output_type": "stream",
     "text": [
      "palindrome\n",
      "not palindrome\n"
     ]
    }
   ],
   "source": [
    "def palindrome(n):\n",
    "    rev=str(n)\n",
    "    if rev==n[::-1]:\n",
    "        return \"palindrome\"\n",
    "    else:\n",
    "        return \"not palindrome\"\n",
    "print(palindrome(\"madam\"))\n",
    "print(palindrome(\"kiran\"))\n"
   ]
  },
  {
   "cell_type": "code",
   "execution_count": null,
   "id": "1ba56367",
   "metadata": {},
   "outputs": [
    {
     "name": "stdout",
     "output_type": "stream",
     "text": [
      "b c d f g h j k l m n p q r s t v w x y z "
     ]
    }
   ],
   "source": [
    "# V=\"aeiou\"\n",
    "# def alpha():\n",
    "#     for i in range(97,123):\n",
    "#         if chr(i) in V:\n",
    "#             print(chr(i),end=\" \")\n",
    "# alpha()\n",
    "\n",
    "\n",
    "V=\"aeiou\"\n",
    "def alpha():\n",
    "    for i in range(97,123):\n",
    "        if chr(i) not in V:\n",
    "            print(chr(i),end=\" \")\n",
    "alpha()\n",
    "\n"
   ]
  },
  {
   "cell_type": "code",
   "execution_count": 1,
   "id": "71a60036",
   "metadata": {},
   "outputs": [
    {
     "name": "stdout",
     "output_type": "stream",
     "text": [
      "a b c d e f g h i j k l m n o p q r s t u v w x y z "
     ]
    }
   ],
   "source": [
    "def alpha():\n",
    "    for i in range(97,123):\n",
    "        print(chr(i),end=\" \")\n",
    "alpha()\n"
   ]
  },
  {
   "cell_type": "code",
   "execution_count": null,
   "id": "47c60bed",
   "metadata": {},
   "outputs": [
    {
     "name": "stdout",
     "output_type": "stream",
     "text": [
      "[1, 2, 6, 24, 120]\n"
     ]
    }
   ],
   "source": [
    "def fact(n):\n",
    "    if n==0 or n==1:\n",
    "        return 1\n",
    "    else:\n",
    "        return n*fact(n-1)\n",
    "op=[fact(n) for n in range(1,6)]\n",
    "print(op)\n",
    "    "
   ]
  },
  {
   "cell_type": "code",
   "execution_count": 1,
   "id": "2fb1a589",
   "metadata": {},
   "outputs": [
    {
     "name": "stdout",
     "output_type": "stream",
     "text": [
      "[[0], [0, 1], [0, 1, 1], [0, 1, 1, 2], [0, 1, 1, 2, 3]]\n"
     ]
    }
   ],
   "source": [
    "def fib(n):\n",
    "    a,b=0,1\n",
    "    series=[]\n",
    "    for i in range(n):\n",
    "        series.append(a)\n",
    "        a,b=b,a+b\n",
    "    return series\n",
    "op=[fib(n) for n in range(1,6)]\n",
    "print(op)"
   ]
  },
  {
   "cell_type": "code",
   "execution_count": 3,
   "id": "c3a4d17e",
   "metadata": {},
   "outputs": [
    {
     "name": "stdout",
     "output_type": "stream",
     "text": [
      "first largest number is  12\n",
      "second largest number is  10\n"
     ]
    }
   ],
   "source": [
    "ip = [10, 10, 9, 4, 12, 3]\n",
    "unique_sorted=sorted({x for x in ip}, reverse=True)\n",
    "\n",
    "ln,sln=unique_sorted[0],unique_sorted[1]\n",
    "print(\"first largest number is \",ln)\n",
    "print(\"second largest number is \",sln)"
   ]
  },
  {
   "cell_type": "code",
   "execution_count": 5,
   "id": "1dd17f89",
   "metadata": {},
   "outputs": [
    {
     "name": "stdout",
     "output_type": "stream",
     "text": [
      "[(('sravani', 'female'), ('sravan', 'male'), ('kumar', 'male')), (('kumari', 'female'), ('lalitha', 'female'), ('lalith', 'male')), (('arjun', 'male'), ('lakshmi', 'female'), ('nandini', 'female')), (('harsha', 'unknown'),)]\n"
     ]
    }
   ],
   "source": [
    "ip = ['sravani', 'sravan', 'kumar', 'kumari', 'lalitha', 'lalith', 'arjun', 'lakshmi', 'nandini', 'harsha']\n",
    "\n",
    "def classify_gender(name):\n",
    "    female_suffixes=['i','a']\n",
    "    male_suffixes=['an','th','n','r']\n",
    "\n",
    "    female_suffixes={'sravani','kumari','lalitha','lakshmi','nandini'}\n",
    "    male_suffixes={'sravan','kumar','arjun','lalith'}\n",
    "\n",
    "    if name in female_suffixes:\n",
    "        return 'female'\n",
    "    elif name in male_suffixes:\n",
    "        return 'male'\n",
    "    else:\n",
    "       return 'unknown'\n",
    "op=[(name,classify_gender(name)) for name in ip]\n",
    "\n",
    "grouped_op = [tuple(op[i:i+3]) for i in range(0, len(op), 3)]\n",
    "\n",
    "print(grouped_op)"
   ]
  },
  {
   "cell_type": "code",
   "execution_count": null,
   "id": "ce65a041",
   "metadata": {},
   "outputs": [
    {
     "name": "stdout",
     "output_type": "stream",
     "text": [
      "7\n",
      "64\n",
      "2.89765\n",
      "34\n",
      "1\n",
      "15\n",
      "(4, 1)\n"
     ]
    }
   ],
   "source": [
    "#1. Basic built-in number functions\n",
    "\n",
    "num=-7\n",
    "print(abs(num))\n",
    "\n",
    "\n",
    "x=8\n",
    "y=2\n",
    "print(pow(x,y))\n",
    "\n",
    "\n",
    "num=2.89765434567\n",
    "print(round(num,5))\n",
    "\n",
    "\n",
    "l=[1,4,9,23,11,34]\n",
    "print(max(l))\n",
    "\n",
    "l=[1,4,9,23,11,34]\n",
    "print(min(l))\n",
    "\n",
    "\n",
    "n=[1,2,3,4,5]\n",
    "print(sum(n))\n",
    "\n",
    "\n",
    "a=9\n",
    "b=2\n",
    "print(divmod(a,b))\n",
    "\n",
    "\n",
    "\n"
   ]
  },
  {
   "cell_type": "code",
   "execution_count": 30,
   "id": "96f2152d",
   "metadata": {},
   "outputs": [
    {
     "name": "stdout",
     "output_type": "stream",
     "text": [
      "<class 'str'>\n",
      "<class 'int'>\n",
      "<class 'float'>\n",
      "True\n",
      "False\n",
      "True\n",
      "True\n",
      "True\n",
      "False\n",
      "True\n",
      "True\n",
      "True\n",
      "False\n"
     ]
    }
   ],
   "source": [
    "#2. Type Checking Methods\n",
    "\n",
    "x=\"hello\"\n",
    "print(type(x))\n",
    "\n",
    "n=876543\n",
    "print(type(n))\n",
    "\n",
    "n=78.2\n",
    "print(type(n))\n",
    "\n",
    "print(isinstance(3.22,float))\n",
    "print(isinstance(22,float))\n",
    "print(isinstance(\"hello\",str))\n",
    "print(isinstance(32,int))\n",
    "print(isinstance(3.22,(int,float)))\n",
    "\n",
    "print(issubclass(bool,float))\n",
    "print(issubclass(bool,int))\n",
    "\n",
    "\n",
    "def greet():\n",
    "    return 'hii'\n",
    "\n",
    "print(callable(greet))\n",
    "print(callable(len))\n",
    "print(callable(42))\n",
    "\n",
    "\n",
    "\n"
   ]
  },
  {
   "cell_type": "code",
   "execution_count": null,
   "id": "5caf6675",
   "metadata": {},
   "outputs": [
    {
     "name": "stdout",
     "output_type": "stream",
     "text": [
      "4.123105625617661\n",
      "13\n",
      "2\n",
      "120\n",
      "2\n",
      "84\n"
     ]
    }
   ],
   "source": [
    "#3.math module methods\n",
    "\n",
    "import math\n",
    "x=17\n",
    "print(math.sqrt(x))\n",
    "\n",
    "x=12.3\n",
    "print(math.ceil(x))\n",
    "\n",
    "x=2.9\n",
    "print(math.floor(x))\n",
    "\n",
    "x=5\n",
    "print(math.factorial(x))\n",
    "\n",
    "x=12\n",
    "y=14\n",
    "print(math.gcd(x,y))\n",
    "\n"
   ]
  }
 ],
 "metadata": {
  "kernelspec": {
   "display_name": "Python 3",
   "language": "python",
   "name": "python3"
  },
  "language_info": {
   "codemirror_mode": {
    "name": "ipython",
    "version": 3
   },
   "file_extension": ".py",
   "mimetype": "text/x-python",
   "name": "python",
   "nbconvert_exporter": "python",
   "pygments_lexer": "ipython3",
   "version": "3.13.1"
  }
 },
 "nbformat": 4,
 "nbformat_minor": 5
}
