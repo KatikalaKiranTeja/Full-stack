{
 "cells": [
  {
   "cell_type": "code",
   "execution_count": 4,
   "id": "81c0fa7a",
   "metadata": {},
   "outputs": [
    {
     "name": "stdout",
     "output_type": "stream",
     "text": [
      "kIrAn\n",
      "kIrAn\n"
     ]
    }
   ],
   "source": [
    "#===> SWAP CASE\n",
    "\n",
    "\n",
    "def swapp(s):\n",
    "    if len(s)==0:\n",
    "        return \n",
    "    res=\"\"\n",
    "    for i in s:\n",
    "        if ord(i)>=65 and ord(i)<=90:\n",
    "            res += chr(ord(i)+32)\n",
    "        elif ord(i)>=97 and ord(i)<=122:\n",
    "            res += chr(ord(i)-32)\n",
    "        else:\n",
    "            res += i\n",
    "    return res\n",
    "\n",
    "\n",
    "s=\"KiRaN\"\n",
    "print(s.swapcase())\n",
    "print(swapp(s))\n"
   ]
  },
  {
   "cell_type": "code",
   "execution_count": 16,
   "id": "f0636d4b",
   "metadata": {},
   "outputs": [
    {
     "name": "stdout",
     "output_type": "stream",
     "text": [
      "5 4 4 2\n"
     ]
    }
   ],
   "source": [
    "t=int(input(\"Enter no of test cases :\"))\n",
    "ll=[]\n",
    "for i in range(t):\n",
    "    n=int(input(\"Enter len of list :\"))\n",
    "    l=list(map(int,input().split()))\n",
    "    res=l[0]\n",
    "\n",
    "    for j in l:\n",
    "        if j>=res:\n",
    "            res=j\n",
    "    ll.append(res)\n",
    "    \n",
    "        \n",
    "print(*ll)\n"
   ]
  }
 ],
 "metadata": {
  "kernelspec": {
   "display_name": "Python 3",
   "language": "python",
   "name": "python3"
  },
  "language_info": {
   "codemirror_mode": {
    "name": "ipython",
    "version": 3
   },
   "file_extension": ".py",
   "mimetype": "text/x-python",
   "name": "python",
   "nbconvert_exporter": "python",
   "pygments_lexer": "ipython3",
   "version": "3.13.1"
  }
 },
 "nbformat": 4,
 "nbformat_minor": 5
}
