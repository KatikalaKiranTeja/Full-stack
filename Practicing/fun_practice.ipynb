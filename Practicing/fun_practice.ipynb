{
 "cells": [
  {
   "cell_type": "code",
   "execution_count": 1,
   "id": "399d53da",
   "metadata": {},
   "outputs": [
    {
     "name": "stdout",
     "output_type": "stream",
     "text": [
      "even\n"
     ]
    }
   ],
   "source": [
    "def is_even(n):\n",
    "    if n%2==0:\n",
    "        return \"even\"\n",
    "    else:\n",
    "        return \"odd\"\n",
    "\n",
    "print(is_even(16))"
   ]
  },
  {
   "cell_type": "code",
   "execution_count": 2,
   "id": "d350c636",
   "metadata": {},
   "outputs": [
    {
     "name": "stdout",
     "output_type": "stream",
     "text": [
      "factorial of n is 120\n"
     ]
    }
   ],
   "source": [
    "def fact(n):\n",
    "    if n==0 or n==1:\n",
    "        return 1\n",
    "    else:\n",
    "        return n*fact(n-1)\n",
    "fact(5)\n",
    "print(f\"factorial of n is {fact(5)}\")\n",
    "    "
   ]
  },
  {
   "cell_type": "code",
   "execution_count": 19,
   "id": "7dea6ab8",
   "metadata": {},
   "outputs": [
    {
     "name": "stdout",
     "output_type": "stream",
     "text": [
      "not palindrome\n"
     ]
    }
   ],
   "source": [
    "def is_palindrome(s):\n",
    "    rev=str(s)\n",
    "    if rev == s[::-1]:\n",
    "        return \"palindrome\"\n",
    "    else:\n",
    "        return \"not palindrome\"\n",
    "print(is_palindrome(\"kiran\"))    "
   ]
  },
  {
   "cell_type": "code",
   "execution_count": 15,
   "id": "a333a82a",
   "metadata": {},
   "outputs": [
    {
     "name": "stdout",
     "output_type": "stream",
     "text": [
      "fib [0, 1, 1, 2, 3]\n",
      "0 1 1 2 3 "
     ]
    }
   ],
   "source": [
    "def fibonacci(n):\n",
    "    a,b=0,1\n",
    "    series=[]\n",
    "    for i in range(n):\n",
    "        series.append(a)\n",
    "        a,b=b,a+b\n",
    "    print(\"fib\",series)\n",
    "        \n",
    "fibonacci(5)\n",
    "\n",
    "\n",
    "def fib(n):\n",
    "    a,b=0,1\n",
    "    for i in range(n):\n",
    "        print(a,end=\" \")\n",
    "        a,b=b,a+b\n",
    "fib(5)\n",
    "\n"
   ]
  },
  {
   "cell_type": "code",
   "execution_count": 5,
   "id": "0b9acd05",
   "metadata": {},
   "outputs": [
    {
     "name": "stdout",
     "output_type": "stream",
     "text": [
      "4\n"
     ]
    }
   ],
   "source": [
    "def count_vowels(text):\n",
    "    vowels=\"aeiou\"\n",
    "    count=0\n",
    "    for i in text:\n",
    "        if i in vowels:\n",
    "            count +=1\n",
    "    return count\n",
    "text=\"kiranteja\"\n",
    "print(count_vowels(text))\n"
   ]
  },
  {
   "cell_type": "code",
   "execution_count": 6,
   "id": "f5870e94",
   "metadata": {},
   "outputs": [
    {
     "name": "stdout",
     "output_type": "stream",
     "text": [
      "The prime numbers from 1 to 10 are :\n",
      "2 3 5 7 "
     ]
    }
   ],
   "source": [
    "def is_prime(num):\n",
    "    if num<=1:\n",
    "        return False\n",
    "    for i in range(2,num):\n",
    "        if num%i==0:\n",
    "            return False\n",
    "    return True\n",
    "print(f\"The prime numbers from 1 to 10 are :\")\n",
    "for i in range(1,11):\n",
    "    if is_prime(i):\n",
    "        print(i,end=\" \")\n"
   ]
  },
  {
   "cell_type": "code",
   "execution_count": 7,
   "id": "2685c404",
   "metadata": {},
   "outputs": [
    {
     "name": "stdout",
     "output_type": "stream",
     "text": [
      "29\n",
      "81\n",
      "171\n",
      "10.0\n",
      "invalid operation\n"
     ]
    }
   ],
   "source": [
    "def calculator(a,b,operation):\n",
    "    if operation == \"add\":\n",
    "        return a+b\n",
    "    elif operation == \"subtract\":\n",
    "        return a-b\n",
    "    elif operation == \"multiply\":\n",
    "        return a*b\n",
    "    elif operation == \"divide\":\n",
    "        if b==0:\n",
    "            return \"error \"\n",
    "        return a/b\n",
    "    else:\n",
    "        return \"invalid operation\"\n",
    "print(calculator(10,19,\"add\"))\n",
    "print(calculator(100,19,\"subtract\"))\n",
    "print(calculator(9,19,\"multiply\"))\n",
    "print(calculator(900,90,\"divide\"))\n",
    "print(calculator(10,19,\"mod\"))\n",
    "    "
   ]
  },
  {
   "cell_type": "code",
   "execution_count": 8,
   "id": "a6c6ecfd",
   "metadata": {},
   "outputs": [
    {
     "name": "stdout",
     "output_type": "stream",
     "text": [
      "a b c d e f g h i j k l m n o p q r s t u v w x y z "
     ]
    }
   ],
   "source": [
    "def alpha():\n",
    "    for i in range(97,123):\n",
    "        print(chr(i),end=\" \")\n",
    "alpha()"
   ]
  },
  {
   "cell_type": "code",
   "execution_count": 9,
   "id": "d4705277",
   "metadata": {},
   "outputs": [
    {
     "name": "stdout",
     "output_type": "stream",
     "text": [
      "a e i o u "
     ]
    }
   ],
   "source": [
    "v=\"aeiou\"\n",
    "def alpha():\n",
    "    for i in range(97,123):\n",
    "        if chr(i) in v:\n",
    "            print(chr(i),end=\" \")\n",
    "alpha()\n"
   ]
  },
  {
   "cell_type": "code",
   "execution_count": 10,
   "id": "2867d532",
   "metadata": {},
   "outputs": [
    {
     "name": "stdout",
     "output_type": "stream",
     "text": [
      "2\n",
      "3\n",
      "5\n",
      "7\n"
     ]
    }
   ],
   "source": [
    "def is_prime(n):\n",
    "    if n<=1:\n",
    "        return False\n",
    "    for i in range(2,n):\n",
    "        if n%i==0:\n",
    "            return False\n",
    "    return True\n",
    "\n",
    "for i in range(1,10):\n",
    "    if is_prime(i):\n",
    "        print(i)\n",
    "\n",
    "        \n",
    "   "
   ]
  },
  {
   "cell_type": "code",
   "execution_count": 11,
   "id": "1d8ffddf",
   "metadata": {},
   "outputs": [
    {
     "name": "stdout",
     "output_type": "stream",
     "text": [
      "factorial of 5 is 120\n"
     ]
    }
   ],
   "source": [
    "def fact(n):\n",
    "    if n==0 or n==1:\n",
    "        return 1\n",
    "    else:\n",
    "        return n*fact(n-1)\n",
    "fact(5)\n",
    "print(f\"factorial of 5 is {fact(5)}\")\n",
    "    "
   ]
  },
  {
   "cell_type": "code",
   "execution_count": 12,
   "id": "5736fde9",
   "metadata": {},
   "outputs": [
    {
     "name": "stdout",
     "output_type": "stream",
     "text": [
      "palindrome\n"
     ]
    }
   ],
   "source": [
    "def palindrome(s):\n",
    "    rev =str(s)\n",
    "    if rev==s[::-1]:\n",
    "        return \"palindrome\"\n",
    "    else:\n",
    "        return \"not palindrome\"\n",
    "print(palindrome(\"madam\"))"
   ]
  },
  {
   "cell_type": "code",
   "execution_count": 13,
   "id": "6520f166",
   "metadata": {},
   "outputs": [
    {
     "name": "stdout",
     "output_type": "stream",
     "text": [
      "[0, 1, 1, 2, 3]\n"
     ]
    }
   ],
   "source": [
    "def fibonacci(n):\n",
    "    a,b=0,1\n",
    "    series=[]\n",
    "    for i in range(n):\n",
    "        series.append(a)\n",
    "        a,b=b,a+b\n",
    "    print(series)\n",
    "\n",
    "fibonacci(5)"
   ]
  },
  {
   "cell_type": "code",
   "execution_count": 14,
   "id": "6751f66c",
   "metadata": {},
   "outputs": [
    {
     "name": "stdout",
     "output_type": "stream",
     "text": [
      "[0, 1, 1, 2, 3]\n"
     ]
    }
   ],
   "source": [
    "def fibonacci(n):\n",
    "    a,b=0,1\n",
    "    series=[0]*n\n",
    "    for i in range(n):\n",
    "        series[i]=a\n",
    "        a,b=b,a+b\n",
    "    print(series)\n",
    "fibonacci(5)"
   ]
  }
 ],
 "metadata": {
  "kernelspec": {
   "display_name": "Python 3",
   "language": "python",
   "name": "python3"
  },
  "language_info": {
   "codemirror_mode": {
    "name": "ipython",
    "version": 3
   },
   "file_extension": ".py",
   "mimetype": "text/x-python",
   "name": "python",
   "nbconvert_exporter": "python",
   "pygments_lexer": "ipython3",
   "version": "3.13.1"
  }
 },
 "nbformat": 4,
 "nbformat_minor": 5
}
