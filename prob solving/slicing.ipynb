{
 "cells": [
  {
   "cell_type": "code",
   "execution_count": null,
   "id": "c44f794c",
   "metadata": {},
   "outputs": [
    {
     "name": "stdout",
     "output_type": "stream",
     "text": [
      "[1, 2, 3, 4, 5, 6, 7, 8, 9, 10]\n",
      "[10, 9, 8, 7, 6, 5, 4, 3, 2, 1]\n",
      "[5, 6, 7, 8]\n",
      "[1, 2, 3, 4, 5, 6, 7, 8, 9]\n",
      "[1, 3, 5, 7, 9]\n",
      "[1, 2, 3, 4, 5, 6, 7, 8, 9, 10]\n",
      "palindrome\n"
     ]
    }
   ],
   "source": [
    "#===> slicing is used in (list,string,tuple)\n",
    "\n",
    "num=[1,2,3,4,5,6,7,8,9,10]\n",
    "print(num[0:])\n",
    "print(num[::-1])\n",
    "print(num[4:8])\n",
    "print(num[:9])\n",
    "print(num[::2])\n",
    "print(num[::1])\n",
    "\n",
    "\n",
    "# to check a string is palindrome or not\n",
    "\n",
    "num = \"madam\"\n",
    "if num==num[::-1]:\n",
    "    print(\"palindrome\")\n",
    "else:\n",
    "    print(\"not a palindrome\")\n",
    "\n"
   ]
  },
  {
   "cell_type": "code",
   "execution_count": 1,
   "id": "74b393fb",
   "metadata": {},
   "outputs": [
    {
     "name": "stdout",
     "output_type": "stream",
     "text": [
      "65\n"
     ]
    }
   ],
   "source": [
    "l=[34,43,54,55,34,2,3,65,76]\n",
    "f_max=l[0]\n",
    "for i in range(1,len(l)):\n",
    "    if l[i] >= f_max:\n",
    "        f_max=l[i]\n",
    "s_max=float('-inf')\n",
    "for i in range(len(l)):\n",
    "    if l[i]>=f_max:\n",
    "        f_max=l[i]\n",
    "\n",
    "s_max=float('-inf')\n",
    "for i in range(len(l)):\n",
    "    if l[i]<f_max and l[i]>=s_max:\n",
    "        s_max=l[i]\n",
    "print(s_max)\n"
   ]
  }
 ],
 "metadata": {
  "kernelspec": {
   "display_name": "Python 3",
   "language": "python",
   "name": "python3"
  },
  "language_info": {
   "codemirror_mode": {
    "name": "ipython",
    "version": 3
   },
   "file_extension": ".py",
   "mimetype": "text/x-python",
   "name": "python",
   "nbconvert_exporter": "python",
   "pygments_lexer": "ipython3",
   "version": "3.12.5"
  }
 },
 "nbformat": 4,
 "nbformat_minor": 5
}
