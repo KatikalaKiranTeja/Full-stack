{
 "cells": [
  {
   "cell_type": "code",
   "execution_count": 18,
   "id": "fa05f7cc",
   "metadata": {},
   "outputs": [
    {
     "name": "stdout",
     "output_type": "stream",
     "text": [
      "name kiran\n",
      "age 22\n",
      "gender male\n",
      "0 name kiran\n",
      "1 age 22\n",
      "2 gender male\n"
     ]
    }
   ],
   "source": [
    "# d={ \"name\":\"kiran\",\"age\":22,\"gender\":\"male\"}\n",
    "# print(d.get(\"age\"))\n",
    "# print(d.get(\"name\"))\n",
    "# print(d.get(\"clg\",\"not available\"))\n",
    "\n",
    "d={ \"name\":\"kiran\",\"age\":22,\"gender\":\"male\"}\n",
    "# for i in d:\n",
    "#     print(d[i],i)\n",
    "# print(list(d.keys()))   #===> in o/p it shows dict_items to remove this use list()\n",
    "# print(list(d.values()))\n",
    "# print(d.items())         #===> in o/p it shows dict_ to remove this use list()\n",
    "# print(list(d.items()))\n",
    "\n",
    "for i,j in d.items():\n",
    "    print(i,j)\n",
    "\n",
    "for ind,(i,j) in enumerate(d.items()):\n",
    "    print(ind,i,j)"
   ]
  },
  {
   "cell_type": "code",
   "execution_count": 22,
   "id": "cf4a9a99",
   "metadata": {},
   "outputs": [
    {
     "name": "stdout",
     "output_type": "stream",
     "text": [
      "{'name': 'Anil', 'age': 22, 'gender': 'male', 'clg': 'URCE'}\n"
     ]
    }
   ],
   "source": [
    "d={ \"name\":\"kiran\",\"age\":22,\"gender\":\"male\"}\n",
    "d.update({\"clg\":\"URCE\"})\n",
    "d.update({\"name\":\"Anil\"})\n",
    "print(d)"
   ]
  },
  {
   "cell_type": "code",
   "execution_count": 30,
   "id": "f279e1f1",
   "metadata": {},
   "outputs": [
    {
     "name": "stdout",
     "output_type": "stream",
     "text": [
      "{'name': 'kiran', 'gender': 'male'}\n",
      "{'name': 0, 'age': 0, 'gender': 0}\n"
     ]
    }
   ],
   "source": [
    "d={ \"name\":\"kiran\",\"age\":22,\"gender\":\"male\"}\n",
    "d.pop(\"age\",\"not found\")\n",
    "print(d)\n",
    "\n",
    "\n",
    "\n",
    "num=[\"name\",\"age\",\"gender\"]\n",
    "# d={}\n",
    "# print(d.fromkeys(num,0))\n",
    "\n",
    "\n",
    "d=dict.fromkeys(num,0)\n",
    "print(d)"
   ]
  }
 ],
 "metadata": {
  "kernelspec": {
   "display_name": "Python 3",
   "language": "python",
   "name": "python3"
  },
  "language_info": {
   "codemirror_mode": {
    "name": "ipython",
    "version": 3
   },
   "file_extension": ".py",
   "mimetype": "text/x-python",
   "name": "python",
   "nbconvert_exporter": "python",
   "pygments_lexer": "ipython3",
   "version": "3.12.5"
  }
 },
 "nbformat": 4,
 "nbformat_minor": 5
}
