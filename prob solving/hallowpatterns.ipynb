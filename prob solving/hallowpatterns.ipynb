{
 "cells": [
  {
   "cell_type": "code",
   "execution_count": null,
   "id": "7fd112b0",
   "metadata": {},
   "outputs": [
    {
     "name": "stdout",
     "output_type": "stream",
     "text": [
      "* * * * * \n",
      "*       * \n",
      "*       * \n",
      "*       * \n",
      "* * * * * \n"
     ]
    }
   ],
   "source": [
    "n=5\n",
    "for i in range(n):\n",
    "    for j in range(n):\n",
    "        if j==0 or i==n-1 or i==0 or j==n-1:\n",
    "            print(\"*\",end=\" \")\n",
    "        else:\n",
    "            print(\" \",end=\" \")\n",
    "    print()\n",
    "\n",
    "\n"
   ]
  },
  {
   "cell_type": "code",
   "execution_count": 10,
   "id": "3530f60f",
   "metadata": {},
   "outputs": [
    {
     "name": "stdout",
     "output_type": "stream",
     "text": [
      "*\n",
      "**\n",
      "* *\n",
      "*  *\n",
      "*****\n",
      "*  *\n",
      "* *\n",
      "**\n",
      "*\n"
     ]
    }
   ],
   "source": [
    "# n=5\n",
    "# for i in range(n):\n",
    "#     for j in range(i+1):\n",
    "#         if j==0 or i==n-1 or   j==i:\n",
    "#             print(\"*\",end=\" \")\n",
    "#         else:\n",
    "#             print(\" \",end=\" \")\n",
    "#     print()\n",
    "\n",
    "\n",
    "n=5\n",
    "for i in range(1,n+1):\n",
    "    if i==1 or i==n:\n",
    "        print(\"*\"*i)\n",
    "    \n",
    "    else:\n",
    "        print(\"*\"+\" \"*(i-2)+\"*\")\n",
    "for i in range(n-1,0,-1):\n",
    "    s=\"\"*(n-i)\n",
    "\n",
    "    if i==1 or i==n:\n",
    "        print(s+\"*\"*i)\n",
    "    else:\n",
    "        print(s+\"*\"+\" \"*(i-2)+\"*\")\n",
    "    "
   ]
  },
  {
   "cell_type": "code",
   "execution_count": 11,
   "id": "4ad80f66",
   "metadata": {},
   "outputs": [
    {
     "name": "stdout",
     "output_type": "stream",
     "text": [
      "* * * * * \n",
      "*     * \n",
      "*   * \n",
      "* * \n",
      "* \n"
     ]
    }
   ],
   "source": [
    "n=5\n",
    "for i in range(n-1,-1,-1):\n",
    "    for j in range(i+1):\n",
    "        if j==i or i==n-1 or j==0:\n",
    "            print(\"*\",end=\" \")\n",
    "        else:\n",
    "            print(\" \",end=\" \")\n",
    "\n",
    "    print()\n",
    "\n",
    "\n",
    "\n"
   ]
  },
  {
   "cell_type": "code",
   "execution_count": null,
   "id": "9995b85d",
   "metadata": {},
   "outputs": [
    {
     "name": "stdout",
     "output_type": "stream",
     "text": [
      "* * * * * * * \n",
      "*           * \n",
      "*           * \n",
      "*           * \n",
      "* * * * * * * \n"
     ]
    }
   ],
   "source": [
    "n=5\n",
    "for i in range(n):\n",
    "    for j in range(n+2):\n",
    "        if i==0 or i==n-1 or j==0 or j==n+1 :        \n",
    "            print(\"*\",end=\" \")\n",
    "        else:\n",
    "            print(\" \",end=\" \")\n",
    "    print()\n",
    "\n"
   ]
  },
  {
   "cell_type": "code",
   "execution_count": 1,
   "id": "ddc21c7b",
   "metadata": {},
   "outputs": [
    {
     "name": "stdout",
     "output_type": "stream",
     "text": [
      "    *\n",
      "   * *\n",
      "  *   *\n",
      " *     *\n",
      "*       *\n",
      " *     *\n",
      "  *   *\n",
      "   * *\n",
      "    *\n"
     ]
    }
   ],
   "source": [
    "# n = 5  # n should be an odd number for symmetry\n",
    "\n",
    "# Upper part of the diamond\n",
    "n=5\n",
    "for i in range(1, n + 1):\n",
    "    s = \" \" * (n - i)\n",
    "    if i == 1:\n",
    "        print(s + \"*\")\n",
    "    else:\n",
    "        print(s + \"*\" + \" \" * (2 * (i - 1) - 1) + \"*\")\n",
    "\n",
    "# Lower part of the diamond\n",
    "for i in range(n - 1, 0, -1):\n",
    "    s = \" \" * (n - i)\n",
    "    if i == 1:\n",
    "        print(s + \"*\")\n",
    "    else:\n",
    "        print(s + \"*\" + \" \" * (2 * (i - 1) - 1) + \"*\")"
   ]
  },
  {
   "cell_type": "code",
   "execution_count": 10,
   "id": "75ea4602",
   "metadata": {},
   "outputs": [
    {
     "name": "stdout",
     "output_type": "stream",
     "text": [
      "        * \n",
      "      *   * \n",
      "    *       * \n",
      "  *           * \n",
      "*               * \n",
      "  *           *     \n",
      "    *       *     \n",
      "      *   *     \n",
      "        *     \n"
     ]
    }
   ],
   "source": [
    "n=5 \n",
    "\n",
    "#  Upper half\n",
    "\n",
    "for i in range(n):\n",
    "    for j in range(n-i-1):\n",
    "        print(\" \",end=\" \")\n",
    "    for j in range(2*i+1):\n",
    "        if j==0 or j==2*i:\n",
    "            print(\"*\",end=\" \")\n",
    "        else:\n",
    "            print(\" \",end=\" \")\n",
    "    print()\n",
    "for i in range(n-1):\n",
    "    for j in range(i+1):\n",
    "        print(\" \",end=\" \")\n",
    "    for j in range(2*(n-i)-1):\n",
    "        if j==0 or j==2*(n-i-1)-2:\n",
    "            print(\"*\",end=\" \")\n",
    "        else:\n",
    "            print(\" \",end=\" \")\n",
    "    print()\n",
    "\n",
    "    "
   ]
  },
  {
   "cell_type": "code",
   "execution_count": 40,
   "id": "cb305360",
   "metadata": {},
   "outputs": [
    {
     "name": "stdout",
     "output_type": "stream",
     "text": [
      "    *\n",
      "   * *\n",
      "  *   *\n",
      " *     *\n",
      "*       *\n"
     ]
    }
   ],
   "source": [
    "n=5 \n",
    "for i in range(1,n+1):\n",
    "    s=\" \"*(n-i)\n",
    "\n",
    "    if i==1:\n",
    "        print(s+\"*\"*(i))\n",
    "    else:\n",
    "        print(s+\"* \"+\"  \"*(i-2)+\"*\")"
   ]
  },
  {
   "cell_type": "code",
   "execution_count": 44,
   "id": "64a7df48",
   "metadata": {},
   "outputs": [
    {
     "name": "stdout",
     "output_type": "stream",
     "text": [
      "*       *\n",
      " *     *\n",
      "  *   *\n",
      "   * *\n",
      "    * \n"
     ]
    }
   ],
   "source": [
    "n=5 \n",
    "for i in range(n,0,-1):\n",
    "    s=\" \"*(n-i)\n",
    "\n",
    "    if i==1:\n",
    "        print(s+\"* \"*(i))\n",
    "    else:\n",
    "        print(s+ \"* \" + \"  \" * (i-2)+ \"*\")"
   ]
  },
  {
   "cell_type": "code",
   "execution_count": null,
   "id": "b02fbd03",
   "metadata": {},
   "outputs": [
    {
     "name": "stdout",
     "output_type": "stream",
     "text": [
      "*         *\n",
      "**       **\n",
      "* *     * *\n",
      "*  *   *  *\n",
      "*   * *   *\n",
      "*    *    *\n",
      "*   * *   *\n",
      "*  *   *  *\n",
      "* *     * *\n",
      "**       **\n",
      "*         *\n"
     ]
    }
   ],
   "source": [
    "# ===>  Butterfly hollow pattern\n",
    "\n",
    "n=5 \n",
    "\n",
    "for i in range(n,0,-1):\n",
    "    s=\" \"*(n-i)\n",
    "\n",
    "    if i==1:\n",
    "        print(\"*\"+s+\"*\"*(i)+s+\"*\")\n",
    "    else:\n",
    "        if i==n:\n",
    "            print(\"* \"+\"  \"*(i-1)+\"*\")\n",
    "            print(\"*\"+s+ \"* \" + \"  \" * (i-2)+ \"*\"+s+\"*\")\n",
    "        else:\n",
    "            print(\"*\"+s+ \"* \" + \"  \" * (i-2)+ \"*\"+s+\"*\")\n",
    "for i in range(2,n+1):\n",
    "    s=\" \"*(n-i)\n",
    "\n",
    "    if i==1:\n",
    "        print(\"*\"+s+\"*\"*(i)+s+\"*\")\n",
    "    else:\n",
    "        if i==n:\n",
    "            print(\"*\"+s+\"* \"+\"  \"*(i-2)+\"*\"+s+\"*\")\n",
    "            print(\"* \"+\"  \"*(i-1)+\"*\")\n",
    "            \n",
    "        else:\n",
    "            print(\"*\"+s+\"* \"+\"  \"*(i-2)+\"*\"+s+\"*\")\n"
   ]
  },
  {
   "cell_type": "code",
   "execution_count": 4,
   "id": "a6dd5e13",
   "metadata": {},
   "outputs": [
    {
     "name": "stdout",
     "output_type": "stream",
     "text": [
      "*       * \n",
      "* *   * * \n",
      "*   *   * \n",
      "* *   * * \n",
      "*       * \n"
     ]
    }
   ],
   "source": [
    "n=5\n",
    "for i in range(n):\n",
    "    for j in range(n):\n",
    "        if j==0 or j==n-1 or i==j or j==n-i-1:\n",
    "            print(\"*\",end=\" \")\n",
    "        else:\n",
    "            print(\" \",end=\" \")\n",
    "    print()"
   ]
  }
 ],
 "metadata": {
  "kernelspec": {
   "display_name": "Python 3",
   "language": "python",
   "name": "python3"
  },
  "language_info": {
   "codemirror_mode": {
    "name": "ipython",
    "version": 3
   },
   "file_extension": ".py",
   "mimetype": "text/x-python",
   "name": "python",
   "nbconvert_exporter": "python",
   "pygments_lexer": "ipython3",
   "version": "3.13.1"
  }
 },
 "nbformat": 4,
 "nbformat_minor": 5
}
