{
 "cells": [
  {
   "cell_type": "code",
   "execution_count": 5,
   "id": "31961361",
   "metadata": {},
   "outputs": [
    {
     "name": "stdout",
     "output_type": "stream",
     "text": [
      "15\n"
     ]
    }
   ],
   "source": [
    "def rkiran(s,subs):\n",
    "    for i in range(len(s)-1,-1,-1):\n",
    "        if s[i]==subs:\n",
    "            return i\n",
    "s=\"kiran teja kiran\"\n",
    "subs=\"n\"\n",
    "print(rkiran(s,subs))\n"
   ]
  },
  {
   "cell_type": "code",
   "execution_count": 7,
   "id": "54aa1381",
   "metadata": {},
   "outputs": [
    {
     "name": "stdout",
     "output_type": "stream",
     "text": [
      "1\n"
     ]
    }
   ],
   "source": [
    "s=\"hello \"\n",
    "print(s.index(\"e\"))"
   ]
  },
  {
   "cell_type": "code",
   "execution_count": 16,
   "id": "c180655b",
   "metadata": {},
   "outputs": [
    {
     "name": "stdout",
     "output_type": "stream",
     "text": [
      "False\n",
      "False\n",
      "True\n",
      "False\n",
      "True\n",
      "False\n",
      "True\n",
      "False\n"
     ]
    }
   ],
   "source": [
    "#checking built in functions\n",
    "s=\"hello \"\n",
    "print(s.startswith(\"e\"))\n",
    "\n",
    "s=\"hello \"\n",
    "print(s.endswith(\"e\"))\n",
    "\n",
    "s=\"hello \"\n",
    "print(s.islower())\n",
    "\n",
    "s=\"hello \"\n",
    "print(s.isupper())\n",
    "\n",
    "s=\"hello\"\n",
    "print(s.isalpha())\n",
    "\n",
    "s=\"hello \"\n",
    "print(s.isdigit())\n",
    "\n",
    "s=\"hello1\"\n",
    "print(s.isalnum())\n",
    "\n",
    "s=\"hello \"\n",
    "print(s.isspace())\n",
    "\n",
    "\n"
   ]
  },
  {
   "cell_type": "code",
   "execution_count": null,
   "id": "6e7e47e3",
   "metadata": {},
   "outputs": [
    {
     "name": "stdout",
     "output_type": "stream",
     "text": [
      "['kiran', 'teja']\n",
      "h-e-l-l-o- \n"
     ]
    }
   ],
   "source": [
    "#spliting and joining built in functions\n",
    "s=\"kiran teja\"\n",
    "print(s.split())\n",
    "\n",
    "list=\"hello\"\n",
    "s='-'.join(list)\n",
    "print(s)"
   ]
  },
  {
   "cell_type": "code",
   "execution_count": 5,
   "id": "8a538096",
   "metadata": {},
   "outputs": [
    {
     "name": "stdout",
     "output_type": "stream",
     "text": [
      "21\n",
      "23\n",
      "25\n",
      "27\n",
      "29\n"
     ]
    }
   ],
   "source": [
    "def is_prime(n):\n",
    "    if n<=1:\n",
    "        return False\n",
    "    for i in range(2,n):\n",
    "        if n%i==0:\n",
    "            return False\n",
    "        return True\n",
    "for i in range(20,30):\n",
    "    if is_prime(i):\n",
    "        print(i)\n",
    "    "
   ]
  },
  {
   "cell_type": "code",
   "execution_count": 13,
   "id": "3baf798f",
   "metadata": {},
   "outputs": [
    {
     "data": {
      "text/plain": [
       "18"
      ]
     },
     "execution_count": 13,
     "metadata": {},
     "output_type": "execute_result"
    }
   ],
   "source": [
    "# a=int(input(\"enter a num :\"))\n",
    "# b=int(input(\"enter b num :\"))\n",
    "# c=4\n",
    "# z=a+b+c\n",
    "# print(z)\n",
    "\n",
    "\n",
    "# def num():\n",
    "#     a=int(input(\"enter a num :\"))\n",
    "#     b=int(input(\"enter b num :\"))\n",
    "#     c=4\n",
    "#     sum=a+b+c\n",
    "#     print(sum)\n",
    "# num()\n",
    "\n",
    "def num(a,b,c=4):\n",
    "    sum=a+b+c\n",
    "    return sum\n",
    "\n",
    "a=int(input(\"enter a num :\"))\n",
    "b=int(input(\"enter b num :\"))\n",
    "num(a,b)\n",
    "\n",
    "\n",
    "\n",
    "\n"
   ]
  },
  {
   "cell_type": "code",
   "execution_count": 1,
   "id": "c650e6b6",
   "metadata": {},
   "outputs": [
    {
     "data": {
      "text/plain": [
       "'bcdfghjklmnpqrstvwxyz'"
      ]
     },
     "execution_count": 1,
     "metadata": {},
     "output_type": "execute_result"
    }
   ],
   "source": [
    "# def alphabet():\n",
    "#     for i in range(97,123):\n",
    "#         print(chr(i),end=\" \")\n",
    "# alphabet()\n",
    "\n",
    "v=\"aeiou\"\n",
    "def vowles():\n",
    "    v1=\"\"\n",
    "    for i in range(97,123):\n",
    "        if chr(i) not in v:\n",
    "            v1 += chr(i)\n",
    "    return v1\n",
    "        \n",
    "vowles()"
   ]
  },
  {
   "cell_type": "code",
   "execution_count": 45,
   "id": "c71c8e50",
   "metadata": {},
   "outputs": [
    {
     "data": {
      "text/plain": [
       "10"
      ]
     },
     "execution_count": 45,
     "metadata": {},
     "output_type": "execute_result"
    }
   ],
   "source": [
    "def sum_of_digits(num):\n",
    "    total = 0\n",
    "    for i in str(num):\n",
    "        total +=int(i)\n",
    "    return total\n",
    "sum_of_digits(1234)"
   ]
  },
  {
   "cell_type": "code",
   "execution_count": 55,
   "id": "c7fcf834",
   "metadata": {},
   "outputs": [
    {
     "data": {
      "text/plain": [
       "10"
      ]
     },
     "execution_count": 55,
     "metadata": {},
     "output_type": "execute_result"
    }
   ],
   "source": [
    "def sum_of_digits(num):\n",
    "    sum=0\n",
    "    while num>0:\n",
    "        digit=num%10\n",
    "        sum += digit\n",
    "        num //=10\n",
    "    return sum\n",
    "sum_of_digits(1234)"
   ]
  },
  {
   "cell_type": "code",
   "execution_count": 1,
   "id": "b23256e8",
   "metadata": {},
   "outputs": [
    {
     "name": "stdout",
     "output_type": "stream",
     "text": [
      "r\n"
     ]
    },
    {
     "data": {
      "text/plain": [
       "'r'"
      ]
     },
     "execution_count": 1,
     "metadata": {},
     "output_type": "execute_result"
    }
   ],
   "source": [
    "s=\"kiran\"\n",
    "str=len(s)\n",
    "if str%2==0:\n",
    "    print(s[str//2-1]+s[str//2])\n",
    "else:\n",
    "    print(s[str//2])\n",
    "\n",
    "\n",
    "\n",
    "\n",
    "\n",
    "def midle_digit(s):\n",
    "    str=len(s)\n",
    "    if str%2==0:\n",
    "        return s[str//2-1]+s[str//2]\n",
    "    else:\n",
    "        return s[str//2]\n",
    "midle_digit(\"kiran\")\n",
    "    \n"
   ]
  },
  {
   "cell_type": "code",
   "execution_count": 82,
   "id": "9916544c",
   "metadata": {},
   "outputs": [
    {
     "name": "stdout",
     "output_type": "stream",
     "text": [
      "dict_keys(['name', 'age', 'branch', 'city', 'gender'])\n",
      "dict_values(['teja', 25, 'btech', 'gudiwada', 'male'])\n",
      "dict_items([('name', 'teja'), ('age', 25), ('branch', 'btech'), ('city', 'gudiwada'), ('gender', 'male')])\n"
     ]
    }
   ],
   "source": [
    "details={\"name\": \"kiran\",\"age\":21,\"branch\": \"btech\",\"city\": \"gudiwada\"}\n",
    "details[\"age\"]=25\n",
    "details[\"name\"]=\"teja\"\n",
    "details[\"gender\"]=\"male\"\n",
    "print(details.keys())\n",
    "print(details.values())\n",
    "print(details.items())"
   ]
  },
  {
   "cell_type": "code",
   "execution_count": 2,
   "id": "c2cd438d",
   "metadata": {},
   "outputs": [
    {
     "name": "stdout",
     "output_type": "stream",
     "text": [
      "120\n"
     ]
    }
   ],
   "source": [
    "def fact(n):\n",
    "    if n==0 or n==1:\n",
    "        return 1\n",
    "    else:\n",
    "        return n*fact(n-1)\n",
    "print(fact(5))\n"
   ]
  },
  {
   "cell_type": "code",
   "execution_count": 93,
   "id": "5b83d39a",
   "metadata": {},
   "outputs": [
    {
     "name": "stdout",
     "output_type": "stream",
     "text": [
      "not\n"
     ]
    }
   ],
   "source": [
    "leap_year=2027\n",
    "\n",
    "if (leap_year%4==0 and leap_year%100!=0) or leap_year%400==0 :\n",
    "    print(\"leap year\")\n",
    "else:\n",
    "    print(\"not\")\n",
    "\n",
    "    "
   ]
  },
  {
   "cell_type": "code",
   "execution_count": 2,
   "id": "ec0684af",
   "metadata": {},
   "outputs": [
    {
     "name": "stdout",
     "output_type": "stream",
     "text": [
      "num is armstrong\n"
     ]
    }
   ],
   "source": [
    "num=153\n",
    "num1=len(str(num))\n",
    "total=0\n",
    "for i in str(num):\n",
    "    total += int(i)**num1\n",
    "if total==num:\n",
    "    print(\"num is armstrong\")\n",
    "else:\n",
    "    print(\"not armstrong\")\n"
   ]
  },
  {
   "cell_type": "code",
   "execution_count": 1,
   "id": "352e3af7",
   "metadata": {},
   "outputs": [
    {
     "name": "stdout",
     "output_type": "stream",
     "text": [
      "0 1 1 2 3 "
     ]
    }
   ],
   "source": [
    "def fib(n):\n",
    "    a,b=0,1\n",
    "    for i in range(n):\n",
    "        print(a,end=\" \")\n",
    "        a,b=b,a+b\n",
    "    \n",
    "fib(5)"
   ]
  },
  {
   "cell_type": "code",
   "execution_count": 19,
   "id": "5665ab59",
   "metadata": {},
   "outputs": [
    {
     "name": "stdout",
     "output_type": "stream",
     "text": [
      "65\n",
      "3\n",
      "3\n",
      "[1, 2, 2, 3, 4, 6, 7]\n",
      "[7, 6, 4, 3, 2, 2, 1]\n",
      "[7, 6, 4, 3, 2, 2, 1]\n",
      "['dog', 'cat', 'ball', 'apple', 'enfield']\n",
      "shallow copy [[1, 2, 33], [4, 5, 6]] \n",
      "\n",
      "deepcopy [[1, 2, 33], [44, 5, 6]]\n",
      "[[1, 2, 33], [4, 5, 6]]\n"
     ]
    }
   ],
   "source": [
    "#list methods\n",
    "\n",
    "\n",
    "l=[34,43,54,55,34,2,3,65,76]\n",
    "f_max=l[0]\n",
    "for i in range(1,len(l)):\n",
    "    if l[i] >= f_max:\n",
    "        f_max=l[i]\n",
    "s_max=float('-inf')\n",
    "for i in range(len(l)):\n",
    "    if l[i]>=f_max:\n",
    "        f_max=l[i]\n",
    "\n",
    "s_max=float('-inf')\n",
    "for i in range(len(l)):\n",
    "    if l[i]<f_max and l[i]>=s_max:\n",
    "        s_max=l[i]\n",
    "print(s_max)\n",
    "\n",
    "\n",
    "\n",
    "# count : to get count of particular elemrnt in a list\n",
    "\n",
    "l=[1,2,3,4,3,5,3]\n",
    "c=0\n",
    "tar=3\n",
    "for i in range(len(l)):\n",
    "    if l[i]==tar:\n",
    "        c+=1\n",
    "print(c)\n",
    "print(l.count(3))\n",
    "\n",
    "\n",
    "# sum() : to get the total sum all elements in alist\n",
    "            # syntax :\n",
    "                # l.sum()\n",
    "# clear(): to delete all elements in a list\n",
    "            # syntax :\n",
    "            #   list_name.clear()\n",
    "\n",
    "# sort() : to sort eliments in a list\n",
    "            # syntax:\n",
    "                # list_name.sort \n",
    "\n",
    "    # att:\n",
    "    #        1. reverse (by default reverse=False)\n",
    "                # list decresing order \n",
    "\n",
    "            # 2. key :\n",
    "            #         key = len to get len wise sorting\n",
    "            #             l.sort(key=len)\n",
    "\n",
    "\n",
    "\n",
    "\n",
    "l = [1,2,2,3,6,4,7]\n",
    "l.sort()\n",
    "print(l)\n",
    "print(l[::-1])\n",
    "\n",
    "\n",
    "l.sort(reverse=True)\n",
    "print(l)\n",
    "\n",
    "\n",
    "l=['apple','ball','enfield','dog','cat']\n",
    "l.sort(key=len)\n",
    "print(l)\n",
    "\n",
    "\n",
    "#===> copy() :\n",
    "\n",
    "# import copy\n",
    "\n",
    "# l=[1,2,3,4]\n",
    "# num=l.copy()\n",
    "# num.pop()\n",
    "# print(num)\n",
    "\n",
    "\n",
    "import copy\n",
    "original=[[1,2,3],[4,5,6]]\n",
    "shallow=copy.copy(original)\n",
    "shallow[0][2]=33\n",
    "print(\"shallow copy\",shallow,\"\\n\")\n",
    "\n",
    "deepcopy =copy.deepcopy(original)\n",
    "deepcopy[1][0]=44\n",
    "print(\"deepcopy\",deepcopy)\n",
    "print(original)\n"
   ]
  },
  {
   "cell_type": "code",
   "execution_count": null,
   "id": "ae1c2a79",
   "metadata": {},
   "outputs": [
    {
     "name": "stdout",
     "output_type": "stream",
     "text": [
      "120\n"
     ]
    }
   ],
   "source": [
    "def fact(n):\n",
    "    if n==0 and n==1:\n",
    "        return 1\n",
    "    else:\n",
    "        return n*fact(n-1)\n",
    "print(fact(5))\n",
    "\n",
    "\n"
   ]
  },
  {
   "cell_type": "code",
   "execution_count": 3,
   "id": "9b3d71b6",
   "metadata": {},
   "outputs": [
    {
     "name": "stdout",
     "output_type": "stream",
     "text": [
      "1x1=1\n",
      "1x2=2\n",
      "1x3=3\n",
      "1x4=4\n",
      "1x5=5\n",
      "1x6=6\n",
      "1x7=7\n",
      "1x8=8\n",
      "1x9=9\n",
      "1x10=10\n",
      "\n",
      "2x1=2\n",
      "2x2=4\n",
      "2x3=6\n",
      "2x4=8\n",
      "2x5=10\n",
      "2x6=12\n",
      "2x7=14\n",
      "2x8=16\n",
      "2x9=18\n",
      "2x10=20\n",
      "\n",
      "3x1=3\n",
      "3x2=6\n",
      "3x3=9\n",
      "3x4=12\n",
      "3x5=15\n",
      "3x6=18\n",
      "3x7=21\n",
      "3x8=24\n",
      "3x9=27\n",
      "3x10=30\n",
      "\n",
      "4x1=4\n",
      "4x2=8\n",
      "4x3=12\n",
      "4x4=16\n",
      "4x5=20\n",
      "4x6=24\n",
      "4x7=28\n",
      "4x8=32\n",
      "4x9=36\n",
      "4x10=40\n",
      "\n",
      "5x1=5\n",
      "5x2=10\n",
      "5x3=15\n",
      "5x4=20\n",
      "5x5=25\n",
      "5x6=30\n",
      "5x7=35\n",
      "5x8=40\n",
      "5x9=45\n",
      "5x10=50\n",
      "\n",
      "6x1=6\n",
      "6x2=12\n",
      "6x3=18\n",
      "6x4=24\n",
      "6x5=30\n",
      "6x6=36\n",
      "6x7=42\n",
      "6x8=48\n",
      "6x9=54\n",
      "6x10=60\n",
      "\n",
      "7x1=7\n",
      "7x2=14\n",
      "7x3=21\n",
      "7x4=28\n",
      "7x5=35\n",
      "7x6=42\n",
      "7x7=49\n",
      "7x8=56\n",
      "7x9=63\n",
      "7x10=70\n",
      "\n",
      "8x1=8\n",
      "8x2=16\n",
      "8x3=24\n",
      "8x4=32\n",
      "8x5=40\n",
      "8x6=48\n",
      "8x7=56\n",
      "8x8=64\n",
      "8x9=72\n",
      "8x10=80\n",
      "\n",
      "9x1=9\n",
      "9x2=18\n",
      "9x3=27\n",
      "9x4=36\n",
      "9x5=45\n",
      "9x6=54\n",
      "9x7=63\n",
      "9x8=72\n",
      "9x9=81\n",
      "9x10=90\n",
      "\n",
      "10x1=10\n",
      "10x2=20\n",
      "10x3=30\n",
      "10x4=40\n",
      "10x5=50\n",
      "10x6=60\n",
      "10x7=70\n",
      "10x8=80\n",
      "10x9=90\n",
      "10x10=100\n",
      "\n"
     ]
    }
   ],
   "source": [
    "for j in range(1,11):\n",
    "    for i in range(1,11):\n",
    "        print(f\"{j}x{i}={j*i}\")\n",
    "    print()\n"
   ]
  }
 ],
 "metadata": {
  "kernelspec": {
   "display_name": "Python 3",
   "language": "python",
   "name": "python3"
  },
  "language_info": {
   "codemirror_mode": {
    "name": "ipython",
    "version": 3
   },
   "file_extension": ".py",
   "mimetype": "text/x-python",
   "name": "python",
   "nbconvert_exporter": "python",
   "pygments_lexer": "ipython3",
   "version": "3.13.1"
  }
 },
 "nbformat": 4,
 "nbformat_minor": 5
}
