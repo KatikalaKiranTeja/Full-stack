{
 "cells": [
  {
   "cell_type": "code",
   "execution_count": 9,
   "id": "234df4d5",
   "metadata": {},
   "outputs": [
    {
     "name": "stdout",
     "output_type": "stream",
     "text": [
      "The first smallest number is  -5\n",
      "The second smallest number is  1\n"
     ]
    }
   ],
   "source": [
    "ip=[1,1,10,-5,9,2]\n",
    "sn=ip[0]\n",
    "ssn=ip[0]\n",
    "for i in ip:\n",
    "    if i<sn:\n",
    "        ssn=sn\n",
    "        sn=i\n",
    "    elif i<ssn and i!=sn:\n",
    "        ssn=i\n",
    "print(\"The first smallest number is \",sn)\n",
    "print(\"The second smallest number is \",ssn)"
   ]
  },
  {
   "cell_type": "code",
   "execution_count": 10,
   "id": "9bd2da61",
   "metadata": {},
   "outputs": [
    {
     "name": "stdout",
     "output_type": "stream",
     "text": [
      "The first largest number is  12\n",
      "The second largest number is  10\n"
     ]
    }
   ],
   "source": [
    "ip=[10,10,9,4,12,3]\n",
    "ln=ip[0]\n",
    "sln=ip[0]\n",
    "for i in ip:\n",
    "    if i>ln:\n",
    "        sln=ln\n",
    "        ln=i\n",
    "    elif i>sln and i!=ln:\n",
    "        sln=i\n",
    "print(\"The first largest number is \",ln)\n",
    "print(\"The second largest number is \",sln)"
   ]
  },
  {
   "cell_type": "code",
   "execution_count": null,
   "id": "80358fc1",
   "metadata": {},
   "outputs": [],
   "source": []
  },
  {
   "cell_type": "code",
   "execution_count": 4,
   "id": "aeb8bfe9",
   "metadata": {},
   "outputs": [
    {
     "name": "stdout",
     "output_type": "stream",
     "text": [
      "1 not prime\n",
      "2 prime\n",
      "3 prime\n",
      "4 not prime\n",
      "5 prime\n",
      "6 not prime\n",
      "7 prime\n",
      "8 not prime\n",
      "9 not prime\n",
      "10 not prime\n",
      "11 prime\n",
      "12 not prime\n",
      "13 prime\n",
      "14 not prime\n",
      "15 not prime\n",
      "16 not prime\n",
      "17 prime\n",
      "18 not prime\n",
      "19 prime\n",
      "20 not prime\n",
      "21 not prime\n",
      "22 not prime\n",
      "23 prime\n",
      "24 not prime\n"
     ]
    }
   ],
   "source": [
    "def is_prime(n):\n",
    "    if n<=1:\n",
    "        return False\n",
    "    for i in range(2,n):\n",
    "        if n%i==0:\n",
    "            return False\n",
    "    return True\n",
    "for i in range(1,25):\n",
    "    if is_prime(i):\n",
    "        print(i,\"prime\")\n",
    "    else:\n",
    "        print(i,\"not prime\")\n"
   ]
  },
  {
   "cell_type": "code",
   "execution_count": 2,
   "id": "a295fad6",
   "metadata": {},
   "outputs": [
    {
     "name": "stdout",
     "output_type": "stream",
     "text": [
      "prime\n"
     ]
    }
   ],
   "source": [
    "n=7\n",
    "flag=True \n",
    "for i in range(2,n):\n",
    "    if n%i==0:\n",
    "        flag=False\n",
    "        break\n",
    "if flag:\n",
    "    print(\"prime\")\n",
    "else:\n",
    "    print(\"not prime\")"
   ]
  },
  {
   "cell_type": "code",
   "execution_count": 14,
   "id": "8ccfe192",
   "metadata": {},
   "outputs": [
    {
     "name": "stdout",
     "output_type": "stream",
     "text": [
      "fib [0, 1, 1, 2, 3]\n"
     ]
    }
   ],
   "source": [
    "def fib(n):\n",
    "    a,b=0,1\n",
    "    series=[]\n",
    "    for i in range(n):\n",
    "        series.append(a)\n",
    "        a,b=b,a+b\n",
    "    print(\"fib\",series)\n",
    "fib(5)"
   ]
  },
  {
   "cell_type": "code",
   "execution_count": 3,
   "id": "b13a72a4",
   "metadata": {},
   "outputs": [
    {
     "name": "stdout",
     "output_type": "stream",
     "text": [
      "Armstrong Number\n"
     ]
    }
   ],
   "source": [
    "n=153\n",
    "n1=len(str(n))\n",
    "def armstrong(n):\n",
    "    res=0\n",
    "    t=n\n",
    "    while t>0:\n",
    "        r=t%10\n",
    "        res=res+r**n1\n",
    "        t = t//10\n",
    "    return res\n",
    "num=armstrong(n)\n",
    "if n==num:\n",
    "    print(\"Armstrong Number\")\n",
    "\n",
    "else:\n",
    "    print(\"Not Armstrong\")\n"
   ]
  },
  {
   "cell_type": "code",
   "execution_count": 22,
   "id": "3e3bcdfa",
   "metadata": {},
   "outputs": [
    {
     "name": "stdout",
     "output_type": "stream",
     "text": [
      "Not Armstrong\n"
     ]
    }
   ],
   "source": [
    "n=157\n",
    "def d_count(n):\n",
    "    e=n\n",
    "    count=0\n",
    "    while e>0:\n",
    "        count += 1\n",
    "        e = e//10\n",
    "    return count\n",
    "def armstrong(n):\n",
    "    t=n\n",
    "    res=0\n",
    "    while t>0:\n",
    "        d=t%10\n",
    "        res=res+d**d_count(n)\n",
    "        t=t//10\n",
    "    return res\n",
    "if n==armstrong(n):\n",
    "    print(\"Armstrong\")\n",
    "else:\n",
    "    print(\"Not Armstrong\")"
   ]
  },
  {
   "cell_type": "code",
   "execution_count": 4,
   "id": "88e45f45",
   "metadata": {},
   "outputs": [
    {
     "name": "stdout",
     "output_type": "stream",
     "text": [
      "[(('sravani', 'female'), ('sravan', 'male'), ('kumar', 'male')), (('kumari', 'female'), ('lalitha', 'female'), ('lalith', 'male')), (('arjun', 'male'), ('lakshmi', 'female'), ('nandini', 'female'))]\n"
     ]
    }
   ],
   "source": [
    "ip = ['sravani', 'sravan', 'kumar', 'kumari', 'lalitha', 'lalith', 'arjun', 'lakshmi', 'nandini']\n",
    "\n",
    "def classify_gender(name):\n",
    "    female_suffixes=['i','a']\n",
    "    male_suffixes=['an','th','n','r']\n",
    "\n",
    "    female_suffixes={'sravani','kumari','lalitha','lakshmi','nandini'}\n",
    "    male_suffixes={'sravan','kumar','arjun','lalith'}\n",
    "\n",
    "    if name in female_suffixes:\n",
    "        return 'female'\n",
    "    elif name in male_suffixes:\n",
    "        return 'male'\n",
    "    else:\n",
    "       return 'unknown'\n",
    "op=[(name,classify_gender(name)) for name in ip]\n",
    "\n",
    "grouped_op = [tuple(op[i:i+3]) for i in range(0, len(op), 3)]\n",
    "\n",
    "print(grouped_op)"
   ]
  },
  {
   "cell_type": "code",
   "execution_count": null,
   "id": "2a482e10",
   "metadata": {},
   "outputs": [
    {
     "name": "stdout",
     "output_type": "stream",
     "text": [
      "not armstrong\n"
     ]
    }
   ],
   "source": [
    "n=153\n",
    "n1=len(str(n))\n",
    "def armstrong(n):\n",
    "    res=0\n",
    "    t=n\n",
    "    while t>0:\n",
    "        d=t%10\n",
    "        res=res+d**n1\n",
    "        t=t//10\n",
    "    return res\n",
    "num=armstrong(n)\n",
    "if n==num:\n",
    "    print(\"armstrong\")\n",
    "else:\n",
    "    print(\"not armstrong\")\n",
    "\n",
    "    "
   ]
  },
  {
   "cell_type": "code",
   "execution_count": 3,
   "id": "da6ef671",
   "metadata": {},
   "outputs": [
    {
     "name": "stdout",
     "output_type": "stream",
     "text": [
      "kIrAn\n"
     ]
    }
   ],
   "source": [
    "def kiran(s):\n",
    "    res=\"\"\n",
    "    for i in range(len(s)):\n",
    "        if ord(s[i])<=90:\n",
    "            res +=chr(ord(s[i])+32)\n",
    "        else:\n",
    "            res +=chr(ord(s[i])-32)\n",
    "    return res\n",
    "s=\"KiRaN\"\n",
    "print(kiran(s))\n",
    "\n",
    "\n"
   ]
  }
 ],
 "metadata": {
  "kernelspec": {
   "display_name": "Python 3",
   "language": "python",
   "name": "python3"
  },
  "language_info": {
   "codemirror_mode": {
    "name": "ipython",
    "version": 3
   },
   "file_extension": ".py",
   "mimetype": "text/x-python",
   "name": "python",
   "nbconvert_exporter": "python",
   "pygments_lexer": "ipython3",
   "version": "3.13.1"
  }
 },
 "nbformat": 4,
 "nbformat_minor": 5
}
