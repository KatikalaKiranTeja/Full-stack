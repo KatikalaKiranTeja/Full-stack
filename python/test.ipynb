{
 "cells": [
  {
   "cell_type": "code",
   "execution_count": 15,
   "id": "7a5ee219",
   "metadata": {},
   "outputs": [
    {
     "name": "stdout",
     "output_type": "stream",
     "text": [
      "        * \n",
      "      *   * \n",
      "    *       * \n",
      "  *           * \n",
      "*               * \n",
      "  *           * \n",
      "    *       * \n",
      "      *   * \n",
      "        * \n"
     ]
    }
   ],
   "source": [
    "n=5\n",
    "for i in range(n):\n",
    "    for j in range(n-i-1):\n",
    "        print(\" \",end=\" \")\n",
    "    for j in range(2*i+1):\n",
    "        if j==0 or j==2*i :\n",
    "            print(\"*\",end=\" \")\n",
    "        else:\n",
    "            print(\" \",end=\" \")\n",
    "    print()\n",
    "for i in range(n-2,-1,-1):\n",
    "    for j in range(n-i-1):\n",
    "        print(\" \",end=\" \")\n",
    "    for j in range(2*i+1):\n",
    "        if j==0 or j==2*i:\n",
    "            print(\"*\",end=\" \")\n",
    "        else:\n",
    "            print(\" \",end=\" \")\n",
    "    print()"
   ]
  },
  {
   "cell_type": "code",
   "execution_count": 1,
   "id": "74ea97ad",
   "metadata": {},
   "outputs": [
    {
     "name": "stdout",
     "output_type": "stream",
     "text": [
      "5\n",
      "11\n",
      "13\n"
     ]
    }
   ],
   "source": [
    "\n",
    "\n",
    "def is_prime(n):\n",
    "    \n",
    "    if n<=1:\n",
    "        return False\n",
    "    for i in range(2,n):\n",
    "        if n%i==0:\n",
    "            return False\n",
    "    return True\n",
    "def nearest_prime(n):\n",
    "    if n<=2:\n",
    "        return 2\n",
    "    lower=n-1\n",
    "    upper=n+1\n",
    "    while True:\n",
    "        if is_prime(lower):\n",
    "            return lower\n",
    "        if is_prime(upper):\n",
    "            return upper\n",
    "        lower -= 1\n",
    "        upper +=1\n",
    "print(nearest_prime(7))\n",
    "print(nearest_prime(10))\n",
    "print(nearest_prime(11))\n",
    "\n",
    "\n",
    "\n"
   ]
  },
  {
   "cell_type": "code",
   "execution_count": 41,
   "id": "40a9c92b",
   "metadata": {},
   "outputs": [
    {
     "name": "stdout",
     "output_type": "stream",
     "text": [
      "[2, 3]\n"
     ]
    }
   ],
   "source": [
    "list=[1,2,3,4,3,6,7,2]\n",
    "repeated=[]\n",
    "for i in (list):\n",
    "    if list.count(i)>1:\n",
    "        if i not in repeated:\n",
    "            repeated.append(i)\n",
    "print(repeated)\n"
   ]
  },
  {
   "cell_type": "code",
   "execution_count": 25,
   "id": "9efd4043",
   "metadata": {},
   "outputs": [
    {
     "name": "stdout",
     "output_type": "stream",
     "text": [
      "i am a python learner\n"
     ]
    }
   ],
   "source": [
    "def replace(s,old,new):\n",
    "    sl=len(s)\n",
    "    ol=len(old)\n",
    "    i=0\n",
    "    res=\"\"\n",
    "    while i<sl:\n",
    "        \n",
    "        if s[i:i+ol] == old:\n",
    "            res += new\n",
    "            i += ol\n",
    "        else:\n",
    "            res += s[i]\n",
    "            i += 1\n",
    "\n",
    "        \n",
    "    return res\n",
    "s = \"i am a java learner\"\n",
    "old = \"java\"\n",
    "new = \"python\"\n",
    "print(replace(s,old,new))\n",
    "\n",
    "\n"
   ]
  },
  {
   "cell_type": "code",
   "execution_count": 1,
   "id": "bc87b96d",
   "metadata": {},
   "outputs": [
    {
     "name": "stdout",
     "output_type": "stream",
     "text": [
      "13\n"
     ]
    }
   ],
   "source": [
    "def is_prime(n):\n",
    "    if n<2:\n",
    "        return False\n",
    "    for i in range(2,n):\n",
    "        if n%i==0:\n",
    "            return False\n",
    "    return True\n",
    "def nearest_prime(n):\n",
    "    if n<2:\n",
    "        return False\n",
    "    lower=n-1\n",
    "    upper=n+1\n",
    "    while True:\n",
    "        if is_prime(lower):\n",
    "            return lower\n",
    "        if is_prime(upper):\n",
    "            return upper\n",
    "        lower -= 1\n",
    "        upper += 1\n",
    "print(nearest_prime(11))"
   ]
  },
  {
   "cell_type": "code",
   "execution_count": 5,
   "id": "de740782",
   "metadata": {},
   "outputs": [
    {
     "name": "stdout",
     "output_type": "stream",
     "text": [
      "prime\n"
     ]
    }
   ],
   "source": [
    "n=2\n",
    "flag=True\n",
    "if n==1:\n",
    "    print(\"not prime\")\n",
    "elif n>1:\n",
    "    for i in range(2,n):\n",
    "        if (n%i)==0:\n",
    "            flag=False\n",
    "            break\n",
    "if flag:\n",
    "    print(\"prime\")\n",
    "else:\n",
    "    print(\" not prime\")"
   ]
  },
  {
   "cell_type": "code",
   "execution_count": 5,
   "id": "3e90cfc5",
   "metadata": {},
   "outputs": [
    {
     "name": "stdout",
     "output_type": "stream",
     "text": [
      "repeated numbers : [2, 3]\n"
     ]
    }
   ],
   "source": [
    "list = [1,2,3,4,2,3,5]\n",
    "repeated = []\n",
    "for i in list:\n",
    "    if list.count(i)>1:\n",
    "        if i not in repeated:\n",
    "            repeated.append(i)\n",
    "\n",
    "print(\"repeated numbers :\",repeated)\n",
    "    "
   ]
  },
  {
   "cell_type": "code",
   "execution_count": 14,
   "id": "267f8c60",
   "metadata": {},
   "outputs": [
    {
     "name": "stdout",
     "output_type": "stream",
     "text": [
      "    * \n",
      "   * *\n",
      "  *   *\n",
      " *     *\n",
      "*       *\n",
      " *     *\n",
      "  *   *\n",
      "   * *\n",
      "    * \n"
     ]
    }
   ],
   "source": [
    "n=5\n",
    "for i in range(1,n):\n",
    "    s=\" \"*(n-i)\n",
    "    if i==1:\n",
    "        print(s+\"* \")\n",
    "    else:\n",
    "        print(s+\"* \"+\"  \"*(i-2)+\"*\")\n",
    "for i in range(n,0,-1):\n",
    "    s=\" \"*(n-i)\n",
    "    if i==1:\n",
    "        print(s+\"* \")\n",
    "    else:\n",
    "        print(s+\"* \"+\"  \"*(i-2)+\"*\")\n"
   ]
  },
  {
   "cell_type": "code",
   "execution_count": 6,
   "id": "026b74d7",
   "metadata": {},
   "outputs": [
    {
     "name": "stdout",
     "output_type": "stream",
     "text": [
      " ViranTeja\n"
     ]
    }
   ],
   "source": [
    "def replace(s,old,new):\n",
    "    strlen = len(s)\n",
    "    ol =len(old)\n",
    "    i=0\n",
    "    res=\" \"\n",
    "    while i<strlen:\n",
    "        if s[i] == old[0]:\n",
    "            if s[i:i+ol] ==old:\n",
    "                res += new\n",
    "                i += 1\n",
    "            else:\n",
    "                res += s[i]\n",
    "                i +=1\n",
    "        else:\n",
    "            res += s[i]\n",
    "            i += 1\n",
    "\n",
    "    return res\n",
    "s=\"KiranTeja\"\n",
    "old=\"K\"\n",
    "new=\"V\"\n",
    "print(replace(s,old,new))\n"
   ]
  },
  {
   "cell_type": "code",
   "execution_count": 34,
   "id": "82e101e4",
   "metadata": {},
   "outputs": [
    {
     "name": "stdout",
     "output_type": "stream",
     "text": [
      "Product of A and B:\n",
      "[[10, 7], [22, 17]]\n"
     ]
    }
   ],
   "source": [
    "def matrix(a,b):\n",
    "    ar=len(a)\n",
    "    ac=len(a[0])\n",
    "    br=len(b)\n",
    "    bc=len(b[0])\n",
    "\n",
    "    if ac!=br:\n",
    "        return \"value error\"\n",
    "\n",
    "    res=[]\n",
    "    for i in range(ar):\n",
    "        r=[]\n",
    "        for j in range(bc):\n",
    "            r.append(0)\n",
    "        res.append(r)\n",
    "    # To product and sum frst matrix row and second matrix col no.s and putting all values in its place in resulted matrix...\n",
    "    for i in range(ar):\n",
    "        for j in range(bc):\n",
    "            for k in range(br):\n",
    "                res[i][j]+=a[i][k]*b[k][j]\n",
    "    return (res)\n",
    "\n",
    "a=[[1,2],[3,4]]\n",
    "b=[[2,3],[4,2]]\n",
    "\n",
    "product = matrix(a, b)\n",
    "print(\"Product of A and B:\")\n",
    "print(product)\n",
    "\n"
   ]
  }
 ],
 "metadata": {
  "kernelspec": {
   "display_name": "Python 3",
   "language": "python",
   "name": "python3"
  },
  "language_info": {
   "codemirror_mode": {
    "name": "ipython",
    "version": 3
   },
   "file_extension": ".py",
   "mimetype": "text/x-python",
   "name": "python",
   "nbconvert_exporter": "python",
   "pygments_lexer": "ipython3",
   "version": "3.13.1"
  }
 },
 "nbformat": 4,
 "nbformat_minor": 5
}
