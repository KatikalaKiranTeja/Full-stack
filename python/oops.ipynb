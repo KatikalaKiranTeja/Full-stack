{
 "cells": [
  {
   "cell_type": "code",
   "execution_count": 23,
   "id": "886e97fd",
   "metadata": {},
   "outputs": [
    {
     "name": "stdout",
     "output_type": "stream",
     "text": [
      "bmw\n",
      "120\n",
      "red\n",
      "blue\n"
     ]
    }
   ],
   "source": [
    "class car:\n",
    "    car_brand=\"bmw\"\n",
    "    eng=1\n",
    "    speed=100\n",
    "    mileage=15\n",
    "    color=\"red\"\n",
    "car1=car()\n",
    "print(car.car_brand)\n",
    "car2=car()\n",
    "car2.color=\"blue\"\n",
    "car3=car()\n",
    "car3.speed=120\n",
    "print(car3.speed)\n",
    "print(car1.color)\n",
    "print(car2.color)"
   ]
  },
  {
   "cell_type": "code",
   "execution_count": 46,
   "id": "750a7532",
   "metadata": {},
   "outputs": [
    {
     "name": "stdout",
     "output_type": "stream",
     "text": [
      "blue red blue\n"
     ]
    }
   ],
   "source": [
    "class car:\n",
    "    car_brand=\"bmw\"\n",
    "    eng=1\n",
    "    speed=100\n",
    "    mileage=15\n",
    "    \n",
    "    def __init__(self,color):\n",
    "        # self.eng=eng\n",
    "        # self.speed=speed\n",
    "        # self.mileage=mileage\n",
    "        self.color=color\n",
    "    car1.color=\"blue\"\n",
    "    # car2.color=\"red\"\n",
    "    car3.color=\"blue\"\n",
    "    print(car1.color,car2.color,car3.color)\n",
    "        "
   ]
  },
  {
   "cell_type": "code",
   "execution_count": 1,
   "id": "b3ca0ccc",
   "metadata": {},
   "outputs": [
    {
     "name": "stdout",
     "output_type": "stream",
     "text": [
      "16\n",
      "4\n"
     ]
    }
   ],
   "source": [
    "def addition(a,b):\n",
    "    c=a+b\n",
    "    return c\n",
    "def subtraction(a,b):\n",
    "    c=a-b\n",
    "    return c\n",
    "\n",
    "def multiplication(a,b):\n",
    "    c=a*b\n",
    "    return c\n",
    "def division(a,b):\n",
    "    c=a/b\n",
    "    return c\n",
    "def modulo(a,b):\n",
    "    c=a%b\n",
    "    return c\n",
    "\n",
    "a=10\n",
    "b=6\n",
    "print(addition(a,b))\n",
    "print(subtraction(a,b))"
   ]
  },
  {
   "cell_type": "code",
   "execution_count": null,
   "id": "ebb04655",
   "metadata": {},
   "outputs": [
    {
     "name": "stdout",
     "output_type": "stream",
     "text": [
      "hello sir\n",
      "thank you! visit again\n"
     ]
    }
   ],
   "source": [
    "class greeting:\n",
    "    def visit(self):\n",
    "        print('hello sir')\n",
    "    def exit(self):\n",
    "        print(\"thank you! visit again\")\n",
    "g1=greeting()\n",
    "g1.visit()\n",
    "g1.exit()\n",
    "\n",
    "\n",
    "# if we not given the self parameter we may get this error\n",
    "# typeerror: greeting.exit() takes 0  positional arguments but 1 was given"
   ]
  }
 ],
 "metadata": {
  "kernelspec": {
   "display_name": "Python 3",
   "language": "python",
   "name": "python3"
  },
  "language_info": {
   "codemirror_mode": {
    "name": "ipython",
    "version": 3
   },
   "file_extension": ".py",
   "mimetype": "text/x-python",
   "name": "python",
   "nbconvert_exporter": "python",
   "pygments_lexer": "ipython3",
   "version": "3.13.1"
  }
 },
 "nbformat": 4,
 "nbformat_minor": 5
}
