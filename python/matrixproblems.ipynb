{
 "cells": [
  {
   "cell_type": "code",
   "execution_count": null,
   "id": "c7f3d465",
   "metadata": {},
   "outputs": [
    {
     "name": "stdout",
     "output_type": "stream",
     "text": [
      "True\n"
     ]
    }
   ],
   "source": [
    "# ===> 1. Check if a Matrix is Square\n",
    "\n",
    "\n",
    "def  matrix(n):\n",
    "    rows=len(n)\n",
    "    for i in n:\n",
    "        if len(i)!=rows:\n",
    "            return False\n",
    "        return True\n",
    "n=[[1,2],[3,4]]\n",
    "print(matrix(n))\n"
   ]
  },
  {
   "cell_type": "code",
   "execution_count": null,
   "id": "b5c52dc6",
   "metadata": {},
   "outputs": [
    {
     "name": "stdout",
     "output_type": "stream",
     "text": [
      "1\n",
      "4\n"
     ]
    }
   ],
   "source": [
    "# ===> 2. Print Diagonal Elements\n",
    "\n",
    "\n",
    "def diagonal(n):\n",
    "    for i in range(len(n)):\n",
    "        print(n[i][i])\n",
    "n=[[1,2],[3,4]]\n",
    "diagonal(n)"
   ]
  },
  {
   "cell_type": "code",
   "execution_count": null,
   "id": "e3d3ff58",
   "metadata": {},
   "outputs": [
    {
     "name": "stdout",
     "output_type": "stream",
     "text": [
      "2\n",
      "4\n"
     ]
    }
   ],
   "source": [
    "# ===>  3. Print Anti-Diagonal Elements\n",
    "\n",
    "def diagonal(n):\n",
    "    for i in range(len(n)):\n",
    "        print(n[i][len(n)-i-1])\n",
    "n=[[1,2],[3,4]]\n",
    "diagonal(n)"
   ]
  },
  {
   "cell_type": "code",
   "execution_count": null,
   "id": "5ac9aa3c",
   "metadata": {},
   "outputs": [],
   "source": []
  }
 ],
 "metadata": {
  "kernelspec": {
   "display_name": "Python 3",
   "language": "python",
   "name": "python3"
  },
  "language_info": {
   "codemirror_mode": {
    "name": "ipython",
    "version": 3
   },
   "file_extension": ".py",
   "mimetype": "text/x-python",
   "name": "python",
   "nbconvert_exporter": "python",
   "pygments_lexer": "ipython3",
   "version": "3.13.1"
  }
 },
 "nbformat": 4,
 "nbformat_minor": 5
}
