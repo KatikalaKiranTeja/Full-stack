{
 "cells": [
  {
   "cell_type": "code",
   "execution_count": 2,
   "id": "2c28238b",
   "metadata": {},
   "outputs": [
    {
     "name": "stdout",
     "output_type": "stream",
     "text": [
      "3000\n"
     ]
    }
   ],
   "source": [
    "import sys\n",
    "print(sys.getrecursionlimit())"
   ]
  },
  {
   "cell_type": "code",
   "execution_count": null,
   "id": "17eb7f41",
   "metadata": {},
   "outputs": [],
   "source": [
    "#sum of n numbers without using looping statement"
   ]
  },
  {
   "cell_type": "code",
   "execution_count": 2,
   "id": "016f47d1",
   "metadata": {},
   "outputs": [
    {
     "name": "stdout",
     "output_type": "stream",
     "text": [
      "15\n"
     ]
    }
   ],
   "source": [
    "def sum(n):\n",
    "    if n==0:\n",
    "        return 0\n",
    "    else:\n",
    "        return n+sum(n-1)\n",
    "n=5\n",
    "print(sum(n))"
   ]
  },
  {
   "cell_type": "code",
   "execution_count": null,
   "id": "cdbf6d8a",
   "metadata": {},
   "outputs": [
    {
     "name": "stdout",
     "output_type": "stream",
     "text": [
      "120\n",
      "720\n"
     ]
    }
   ],
   "source": [
    "#  factorial of a number using recursion\n",
    "\n",
    "def fact(n):\n",
    "    if n==1 or n==0:\n",
    "        return 1\n",
    "    else:\n",
    "        return n*fact(n-1)\n",
    "n=5\n",
    "print(fact(n))\n",
    "print(fact(6))\n"
   ]
  },
  {
   "cell_type": "code",
   "execution_count": 9,
   "id": "4d77a796",
   "metadata": {},
   "outputs": [
    {
     "name": "stdout",
     "output_type": "stream",
     "text": [
      "palindrome\n",
      "not palindrome\n"
     ]
    }
   ],
   "source": [
    "#  ===>  Palindrome\n",
    "\n",
    "def palindrome(s):\n",
    "    f=0\n",
    "    i=0\n",
    "    j=len(s)-1\n",
    "    while i<j:\n",
    "        if s[i]==s[j]:\n",
    "            i+=1\n",
    "            j-=1\n",
    "        else:\n",
    "            f=1\n",
    "            break\n",
    "    if f==1:\n",
    "        return (\"not palindrome\")\n",
    "    else:\n",
    "        return (\"palindrome\")\n",
    "print(palindrome(\"madam\"))\n",
    "print(palindrome(\"maddm\"))\n"
   ]
  },
  {
   "cell_type": "code",
   "execution_count": null,
   "id": "debb7e18",
   "metadata": {},
   "outputs": [
    {
     "name": "stdout",
     "output_type": "stream",
     "text": [
      "palindrome\n"
     ]
    }
   ],
   "source": [
    "#  palindrome in recursion\n",
    "\n",
    "def palindrome(s, i, j):\n",
    "    if i>=j:\n",
    "        return 'palindrome'\n",
    "    if s[i]!=s[j]:\n",
    "        return 'palindrome'\n",
    "    return palindrome(s, i+1, j-1)\n",
    "s=\"madam\"\n",
    "i=0\n",
    "j=len(s)-1\n",
    "print(palindrome(s,i,j))"
   ]
  },
  {
   "cell_type": "code",
   "execution_count": null,
   "id": "a51b6941",
   "metadata": {},
   "outputs": [
    {
     "name": "stdout",
     "output_type": "stream",
     "text": [
      "1\n"
     ]
    }
   ],
   "source": [
    "# ===>  Fibnocci in recursion\n",
    "\n",
    "def fib(n):\n",
    "    if n<=0:\n",
    "        return 0\n",
    "    elif n==1:\n",
    "        return 1\n",
    "    else:\n",
    "        return fib(n-1)+fib(n-2)\n",
    "n=1\n",
    "# for i in range(n):\n",
    "#     print(fib(i))\n",
    "print(fib(n))"
   ]
  }
 ],
 "metadata": {
  "kernelspec": {
   "display_name": "Python 3",
   "language": "python",
   "name": "python3"
  },
  "language_info": {
   "codemirror_mode": {
    "name": "ipython",
    "version": 3
   },
   "file_extension": ".py",
   "mimetype": "text/x-python",
   "name": "python",
   "nbconvert_exporter": "python",
   "pygments_lexer": "ipython3",
   "version": "3.13.1"
  }
 },
 "nbformat": 4,
 "nbformat_minor": 5
}
