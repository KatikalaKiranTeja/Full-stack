{
 "cells": [
  {
   "cell_type": "code",
   "execution_count": null,
   "id": "1a12f52b",
   "metadata": {},
   "outputs": [
    {
     "name": "stdout",
     "output_type": "stream",
     "text": [
      "1 \n",
      "1 2 \n",
      "1 2 3 \n",
      "1 2 3 4 \n",
      "1 2 3 4 5 \n"
     ]
    }
   ],
   "source": [
    "#  ===>  Increasing Number Triangle\n",
    "\n",
    "n=5\n",
    "for i in range(n):\n",
    "    for j in range(i+1):\n",
    "        print(j+1,end=\" \")\n",
    "    print()"
   ]
  },
  {
   "cell_type": "code",
   "execution_count": 4,
   "id": "b57dc289",
   "metadata": {},
   "outputs": [
    {
     "name": "stdout",
     "output_type": "stream",
     "text": [
      "1 \n",
      "2 2 \n",
      "3 3 3 \n",
      "4 4 4 4 \n",
      "5 5 5 5 5 \n"
     ]
    }
   ],
   "source": [
    "# ====>   Repeating Row Number Triangle\n",
    "\n",
    "n=5 \n",
    "for i in range(n):\n",
    "    for j in range(i+1):\n",
    "        print(i+1,end=\" \")\n",
    "    print()"
   ]
  },
  {
   "cell_type": "code",
   "execution_count": 6,
   "id": "8e5d8e2c",
   "metadata": {},
   "outputs": [
    {
     "name": "stdout",
     "output_type": "stream",
     "text": [
      "\n",
      "1 \n",
      "2 3 \n",
      "4 5 6 \n",
      "7 8 9 10 \n"
     ]
    }
   ],
   "source": [
    "# ===>   Continuous Number Triangle\n",
    "\n",
    "n=5\n",
    "num=1\n",
    "for i in range(n):\n",
    "    for j in range(i):\n",
    "        print(num,end=\" \")\n",
    "        num +=1\n",
    "    print()\n"
   ]
  },
  {
   "cell_type": "code",
   "execution_count": null,
   "id": "ac7d5525",
   "metadata": {},
   "outputs": [
    {
     "name": "stdout",
     "output_type": "stream",
     "text": [
      "1 \n",
      "2 1 \n",
      "3 2 1 \n",
      "4 3 2 1 \n",
      "5 4 3 2 1 \n"
     ]
    }
   ],
   "source": [
    "# ===>   Reverse Row Number Triangle\n",
    "\n",
    "n=5 \n",
    "for i in range(1,n+1):\n",
    "    for j in range(i,0,-1):\n",
    "        print(j,end=\" \")\n",
    "    print()"
   ]
  },
  {
   "cell_type": "code",
   "execution_count": null,
   "id": "8d1ac387",
   "metadata": {},
   "outputs": [
    {
     "name": "stdout",
     "output_type": "stream",
     "text": [
      "5 4 3 2 1 \n",
      "4 3 2 1 \n",
      "3 2 1 \n",
      "2 1 \n",
      "1 \n"
     ]
    }
   ],
   "source": [
    "# ====>  Inverted number triangle\n",
    "\n",
    "\n",
    "n=5 \n",
    "for i in range(n,0,-1):\n",
    "    for j in range(i,0,-1):\n",
    "        print(j,end=\" \")\n",
    "    print()"
   ]
  },
  {
   "cell_type": "code",
   "execution_count": null,
   "id": "fcd66679",
   "metadata": {},
   "outputs": [
    {
     "name": "stdout",
     "output_type": "stream",
     "text": [
      "        1 \n",
      "      1 2 \n",
      "    1 2 3 \n",
      "  1 2 3 4 \n",
      "1 2 3 4 5 \n"
     ]
    }
   ],
   "source": [
    "#====> Right-Aligned Number Triangle\n",
    "\n",
    "n=5\n",
    "for i in range(1,n+1):\n",
    "    print(\"  \"*(n-i),end=\"\")\n",
    "    for j in range(1,i+1):\n",
    "        print(j,end=\" \")\n",
    "    print()"
   ]
  },
  {
   "cell_type": "code",
   "execution_count": 1,
   "id": "f8d8793d",
   "metadata": {},
   "outputs": [
    {
     "name": "stdout",
     "output_type": "stream",
     "text": [
      "2 \n",
      "4 6 \n",
      "8 10 12 \n",
      "14 16 18 20 \n",
      "22 24 26 28 30 \n",
      "================================\n",
      "2 \n",
      "2 4 \n",
      "2 4 6 \n",
      "2 4 6 8 \n",
      "2 4 6 8 10 \n"
     ]
    }
   ],
   "source": [
    "# ===> Even Number Triangle\n",
    "\n",
    "n=5\n",
    "n1=2\n",
    "for i in range(1,n+1):\n",
    "    for j in range(i):\n",
    "        print(n1,end=\" \")\n",
    "        n1 +=2\n",
    "    print()\n",
    "print(\"================================\")\n",
    "\n",
    "n=5\n",
    "\n",
    "for i in range(1,n+1):\n",
    "    n1=2\n",
    "    for j in range(i):\n",
    "        print(n1,end=\" \")\n",
    "        n1 +=2\n",
    "    print()\n",
    "\n"
   ]
  },
  {
   "cell_type": "code",
   "execution_count": 3,
   "id": "4622f093",
   "metadata": {},
   "outputs": [
    {
     "name": "stdout",
     "output_type": "stream",
     "text": [
      "1 \n",
      "3 5 \n",
      "7 9 11 \n",
      "13 15 17 19 \n",
      "21 23 25 27 29 \n",
      "================================\n",
      "1 \n",
      "1 3 \n",
      "1 3 5 \n",
      "1 3 5 7 \n",
      "1 3 5 7 9 \n"
     ]
    }
   ],
   "source": [
    "# ===> Odd Number Triangle\n",
    "\n",
    "\n",
    "n=5\n",
    "n1=1\n",
    "for i in range(1,n+1):\n",
    "    \n",
    "    for j in range(i):\n",
    "        print(n1,end=\" \")\n",
    "        n1 +=2\n",
    "    print()\n",
    "print(\"================================\")\n",
    "\n",
    "n=5\n",
    "for i in range(1,n+1):\n",
    "    n1=1\n",
    "    for j in range(i):\n",
    "        print(n1,end=\" \")\n",
    "        n1 +=2\n",
    "    print()"
   ]
  }
 ],
 "metadata": {
  "kernelspec": {
   "display_name": "Python 3",
   "language": "python",
   "name": "python3"
  },
  "language_info": {
   "codemirror_mode": {
    "name": "ipython",
    "version": 3
   },
   "file_extension": ".py",
   "mimetype": "text/x-python",
   "name": "python",
   "nbconvert_exporter": "python",
   "pygments_lexer": "ipython3",
   "version": "3.13.1"
  }
 },
 "nbformat": 4,
 "nbformat_minor": 5
}
